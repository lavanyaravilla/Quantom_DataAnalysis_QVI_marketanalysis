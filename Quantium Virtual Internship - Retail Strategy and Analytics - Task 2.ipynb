{
 "cells": [
  {
   "cell_type": "markdown",
   "metadata": {},
   "source": [
    "#### Importing necessary libraries"
   ]
  },
  {
   "cell_type": "code",
   "execution_count": 1,
   "metadata": {},
   "outputs": [],
   "source": [
    "import numpy as np\n",
    "import pandas as pd\n",
    "import seaborn as sns\n",
    "import matplotlib.pyplot as plt\n",
    "import datetime\n",
    "%matplotlib inline"
   ]
  },
  {
   "cell_type": "markdown",
   "metadata": {},
   "source": [
    "#### Reading data from .csv file and displaying information about dataset"
   ]
  },
  {
   "cell_type": "code",
   "execution_count": 2,
   "metadata": {},
   "outputs": [
    {
     "name": "stdout",
     "output_type": "stream",
     "text": [
      "<class 'pandas.core.frame.DataFrame'>\n",
      "RangeIndex: 264834 entries, 0 to 264833\n",
      "Data columns (total 12 columns):\n",
      " #   Column            Non-Null Count   Dtype  \n",
      "---  ------            --------------   -----  \n",
      " 0   LYLTY_CARD_NBR    264834 non-null  int64  \n",
      " 1   DATE              264834 non-null  object \n",
      " 2   STORE_NBR         264834 non-null  int64  \n",
      " 3   TXN_ID            264834 non-null  int64  \n",
      " 4   PROD_NBR          264834 non-null  int64  \n",
      " 5   PROD_NAME         264834 non-null  object \n",
      " 6   PROD_QTY          264834 non-null  int64  \n",
      " 7   TOT_SALES         264834 non-null  float64\n",
      " 8   PACK_SIZE         264834 non-null  int64  \n",
      " 9   BRAND             264834 non-null  object \n",
      " 10  LIFESTAGE         264834 non-null  object \n",
      " 11  PREMIUM_CUSTOMER  264834 non-null  object \n",
      "dtypes: float64(1), int64(6), object(5)\n",
      "memory usage: 24.2+ MB\n"
     ]
    }
   ],
   "source": [
    "df=pd.read_csv(\"QVI_data.csv\")\n",
    "df.info()"
   ]
  },
  {
   "cell_type": "markdown",
   "metadata": {},
   "source": [
    "#### Setting monthID in YYYYMM format"
   ]
  },
  {
   "cell_type": "code",
   "execution_count": 3,
   "metadata": {},
   "outputs": [
    {
     "data": {
      "text/html": [
       "<div>\n",
       "<style scoped>\n",
       "    .dataframe tbody tr th:only-of-type {\n",
       "        vertical-align: middle;\n",
       "    }\n",
       "\n",
       "    .dataframe tbody tr th {\n",
       "        vertical-align: top;\n",
       "    }\n",
       "\n",
       "    .dataframe thead th {\n",
       "        text-align: right;\n",
       "    }\n",
       "</style>\n",
       "<table border=\"1\" class=\"dataframe\">\n",
       "  <thead>\n",
       "    <tr style=\"text-align: right;\">\n",
       "      <th></th>\n",
       "      <th>LYLTY_CARD_NBR</th>\n",
       "      <th>DATE</th>\n",
       "      <th>STORE_NBR</th>\n",
       "      <th>TXN_ID</th>\n",
       "      <th>PROD_NBR</th>\n",
       "      <th>PROD_NAME</th>\n",
       "      <th>PROD_QTY</th>\n",
       "      <th>TOT_SALES</th>\n",
       "      <th>PACK_SIZE</th>\n",
       "      <th>BRAND</th>\n",
       "      <th>LIFESTAGE</th>\n",
       "      <th>PREMIUM_CUSTOMER</th>\n",
       "      <th>MONTH_ID</th>\n",
       "    </tr>\n",
       "  </thead>\n",
       "  <tbody>\n",
       "    <tr>\n",
       "      <th>0</th>\n",
       "      <td>1000</td>\n",
       "      <td>2018-10-17</td>\n",
       "      <td>1</td>\n",
       "      <td>1</td>\n",
       "      <td>5</td>\n",
       "      <td>Natural Chip        Compny SeaSalt175g</td>\n",
       "      <td>2</td>\n",
       "      <td>6.0</td>\n",
       "      <td>175</td>\n",
       "      <td>NATURAL</td>\n",
       "      <td>YOUNG SINGLES/COUPLES</td>\n",
       "      <td>Premium</td>\n",
       "      <td>201810</td>\n",
       "    </tr>\n",
       "    <tr>\n",
       "      <th>1</th>\n",
       "      <td>1002</td>\n",
       "      <td>2018-09-16</td>\n",
       "      <td>1</td>\n",
       "      <td>2</td>\n",
       "      <td>58</td>\n",
       "      <td>Red Rock Deli Chikn&amp;Garlic Aioli 150g</td>\n",
       "      <td>1</td>\n",
       "      <td>2.7</td>\n",
       "      <td>150</td>\n",
       "      <td>RRD</td>\n",
       "      <td>YOUNG SINGLES/COUPLES</td>\n",
       "      <td>Mainstream</td>\n",
       "      <td>201809</td>\n",
       "    </tr>\n",
       "    <tr>\n",
       "      <th>2</th>\n",
       "      <td>1003</td>\n",
       "      <td>2019-03-07</td>\n",
       "      <td>1</td>\n",
       "      <td>3</td>\n",
       "      <td>52</td>\n",
       "      <td>Grain Waves Sour    Cream&amp;Chives 210G</td>\n",
       "      <td>1</td>\n",
       "      <td>3.6</td>\n",
       "      <td>210</td>\n",
       "      <td>GRNWVES</td>\n",
       "      <td>YOUNG FAMILIES</td>\n",
       "      <td>Budget</td>\n",
       "      <td>201903</td>\n",
       "    </tr>\n",
       "    <tr>\n",
       "      <th>3</th>\n",
       "      <td>1003</td>\n",
       "      <td>2019-03-08</td>\n",
       "      <td>1</td>\n",
       "      <td>4</td>\n",
       "      <td>106</td>\n",
       "      <td>Natural ChipCo      Hony Soy Chckn175g</td>\n",
       "      <td>1</td>\n",
       "      <td>3.0</td>\n",
       "      <td>175</td>\n",
       "      <td>NATURAL</td>\n",
       "      <td>YOUNG FAMILIES</td>\n",
       "      <td>Budget</td>\n",
       "      <td>201903</td>\n",
       "    </tr>\n",
       "    <tr>\n",
       "      <th>4</th>\n",
       "      <td>1004</td>\n",
       "      <td>2018-11-02</td>\n",
       "      <td>1</td>\n",
       "      <td>5</td>\n",
       "      <td>96</td>\n",
       "      <td>WW Original Stacked Chips 160g</td>\n",
       "      <td>1</td>\n",
       "      <td>1.9</td>\n",
       "      <td>160</td>\n",
       "      <td>WOOLWORTHS</td>\n",
       "      <td>OLDER SINGLES/COUPLES</td>\n",
       "      <td>Mainstream</td>\n",
       "      <td>201811</td>\n",
       "    </tr>\n",
       "  </tbody>\n",
       "</table>\n",
       "</div>"
      ],
      "text/plain": [
       "   LYLTY_CARD_NBR        DATE  STORE_NBR  TXN_ID  PROD_NBR  \\\n",
       "0            1000  2018-10-17          1       1         5   \n",
       "1            1002  2018-09-16          1       2        58   \n",
       "2            1003  2019-03-07          1       3        52   \n",
       "3            1003  2019-03-08          1       4       106   \n",
       "4            1004  2018-11-02          1       5        96   \n",
       "\n",
       "                                PROD_NAME  PROD_QTY  TOT_SALES  PACK_SIZE  \\\n",
       "0  Natural Chip        Compny SeaSalt175g         2        6.0        175   \n",
       "1   Red Rock Deli Chikn&Garlic Aioli 150g         1        2.7        150   \n",
       "2   Grain Waves Sour    Cream&Chives 210G         1        3.6        210   \n",
       "3  Natural ChipCo      Hony Soy Chckn175g         1        3.0        175   \n",
       "4          WW Original Stacked Chips 160g         1        1.9        160   \n",
       "\n",
       "        BRAND              LIFESTAGE PREMIUM_CUSTOMER  MONTH_ID  \n",
       "0     NATURAL  YOUNG SINGLES/COUPLES          Premium    201810  \n",
       "1         RRD  YOUNG SINGLES/COUPLES       Mainstream    201809  \n",
       "2     GRNWVES         YOUNG FAMILIES           Budget    201903  \n",
       "3     NATURAL         YOUNG FAMILIES           Budget    201903  \n",
       "4  WOOLWORTHS  OLDER SINGLES/COUPLES       Mainstream    201811  "
      ]
     },
     "execution_count": 3,
     "metadata": {},
     "output_type": "execute_result"
    }
   ],
   "source": [
    "def monthID(val):\n",
    "    dateStrip = datetime.datetime.strptime(val, \"%Y-%m-%d\")\n",
    "    return dateStrip.year*100 + dateStrip.month\n",
    "df['MONTH_ID']=df['DATE'].apply(monthID)\n",
    "df.head()"
   ]
  },
  {
   "cell_type": "markdown",
   "metadata": {},
   "source": [
    "#### Creating 'price_per_unit' column in our data frame for ease of calculations"
   ]
  },
  {
   "cell_type": "code",
   "execution_count": 4,
   "metadata": {},
   "outputs": [
    {
     "name": "stdout",
     "output_type": "stream",
     "text": [
      "<class 'pandas.core.frame.DataFrame'>\n",
      "RangeIndex: 264834 entries, 0 to 264833\n",
      "Data columns (total 14 columns):\n",
      " #   Column            Non-Null Count   Dtype  \n",
      "---  ------            --------------   -----  \n",
      " 0   LYLTY_CARD_NBR    264834 non-null  int64  \n",
      " 1   DATE              264834 non-null  object \n",
      " 2   STORE_NBR         264834 non-null  int64  \n",
      " 3   TXN_ID            264834 non-null  int64  \n",
      " 4   PROD_NBR          264834 non-null  int64  \n",
      " 5   PROD_NAME         264834 non-null  object \n",
      " 6   PROD_QTY          264834 non-null  int64  \n",
      " 7   TOT_SALES         264834 non-null  float64\n",
      " 8   PACK_SIZE         264834 non-null  int64  \n",
      " 9   BRAND             264834 non-null  object \n",
      " 10  LIFESTAGE         264834 non-null  object \n",
      " 11  PREMIUM_CUSTOMER  264834 non-null  object \n",
      " 12  MONTH_ID          264834 non-null  int64  \n",
      " 13  PRICE_PER_UNIT    264834 non-null  float64\n",
      "dtypes: float64(2), int64(7), object(5)\n",
      "memory usage: 28.3+ MB\n"
     ]
    }
   ],
   "source": [
    "df['PRICE_PER_UNIT']=df['TOT_SALES']/df['PROD_QTY']\n",
    "df.info()"
   ]
  },
  {
   "cell_type": "markdown",
   "metadata": {},
   "source": [
    "#### Classifying values on the basis of \"Store number\" and \"month ID\" :-"
   ]
  },
  {
   "cell_type": "code",
   "execution_count": 5,
   "metadata": {},
   "outputs": [
    {
     "data": {
      "text/html": [
       "<div>\n",
       "<style scoped>\n",
       "    .dataframe tbody tr th:only-of-type {\n",
       "        vertical-align: middle;\n",
       "    }\n",
       "\n",
       "    .dataframe tbody tr th {\n",
       "        vertical-align: top;\n",
       "    }\n",
       "\n",
       "    .dataframe thead th {\n",
       "        text-align: right;\n",
       "    }\n",
       "</style>\n",
       "<table border=\"1\" class=\"dataframe\">\n",
       "  <thead>\n",
       "    <tr style=\"text-align: right;\">\n",
       "      <th></th>\n",
       "      <th></th>\n",
       "      <th>TOT_SALES</th>\n",
       "      <th>TOTAL_CUSTOMERS</th>\n",
       "      <th>TXN_PER_CUST</th>\n",
       "      <th>CHIPS_PER_CUST</th>\n",
       "      <th>AVG_PRICE_PER_UNIT</th>\n",
       "    </tr>\n",
       "    <tr>\n",
       "      <th>STORE_NBR</th>\n",
       "      <th>MONTH_ID</th>\n",
       "      <th></th>\n",
       "      <th></th>\n",
       "      <th></th>\n",
       "      <th></th>\n",
       "      <th></th>\n",
       "    </tr>\n",
       "  </thead>\n",
       "  <tbody>\n",
       "    <tr>\n",
       "      <th rowspan=\"5\" valign=\"top\">1</th>\n",
       "      <th>201807</th>\n",
       "      <td>206.9</td>\n",
       "      <td>49</td>\n",
       "      <td>1.061224</td>\n",
       "      <td>1.265306</td>\n",
       "      <td>3.384615</td>\n",
       "    </tr>\n",
       "    <tr>\n",
       "      <th>201808</th>\n",
       "      <td>176.1</td>\n",
       "      <td>42</td>\n",
       "      <td>1.023810</td>\n",
       "      <td>1.285714</td>\n",
       "      <td>3.329070</td>\n",
       "    </tr>\n",
       "    <tr>\n",
       "      <th>201809</th>\n",
       "      <td>278.8</td>\n",
       "      <td>59</td>\n",
       "      <td>1.050847</td>\n",
       "      <td>1.271186</td>\n",
       "      <td>3.685484</td>\n",
       "    </tr>\n",
       "    <tr>\n",
       "      <th>201810</th>\n",
       "      <td>188.1</td>\n",
       "      <td>44</td>\n",
       "      <td>1.022727</td>\n",
       "      <td>1.318182</td>\n",
       "      <td>3.288889</td>\n",
       "    </tr>\n",
       "    <tr>\n",
       "      <th>201811</th>\n",
       "      <td>192.6</td>\n",
       "      <td>46</td>\n",
       "      <td>1.021739</td>\n",
       "      <td>1.239130</td>\n",
       "      <td>3.412766</td>\n",
       "    </tr>\n",
       "    <tr>\n",
       "      <th>...</th>\n",
       "      <th>...</th>\n",
       "      <td>...</td>\n",
       "      <td>...</td>\n",
       "      <td>...</td>\n",
       "      <td>...</td>\n",
       "      <td>...</td>\n",
       "    </tr>\n",
       "    <tr>\n",
       "      <th rowspan=\"5\" valign=\"top\">272</th>\n",
       "      <th>201902</th>\n",
       "      <td>395.5</td>\n",
       "      <td>45</td>\n",
       "      <td>1.066667</td>\n",
       "      <td>2.022222</td>\n",
       "      <td>4.358333</td>\n",
       "    </tr>\n",
       "    <tr>\n",
       "      <th>201903</th>\n",
       "      <td>442.3</td>\n",
       "      <td>50</td>\n",
       "      <td>1.060000</td>\n",
       "      <td>2.020000</td>\n",
       "      <td>4.350943</td>\n",
       "    </tr>\n",
       "    <tr>\n",
       "      <th>201904</th>\n",
       "      <td>445.1</td>\n",
       "      <td>54</td>\n",
       "      <td>1.018519</td>\n",
       "      <td>1.944444</td>\n",
       "      <td>4.248214</td>\n",
       "    </tr>\n",
       "    <tr>\n",
       "      <th>201905</th>\n",
       "      <td>314.6</td>\n",
       "      <td>34</td>\n",
       "      <td>1.176471</td>\n",
       "      <td>2.088235</td>\n",
       "      <td>4.437500</td>\n",
       "    </tr>\n",
       "    <tr>\n",
       "      <th>201906</th>\n",
       "      <td>312.1</td>\n",
       "      <td>34</td>\n",
       "      <td>1.088235</td>\n",
       "      <td>2.058824</td>\n",
       "      <td>4.424324</td>\n",
       "    </tr>\n",
       "  </tbody>\n",
       "</table>\n",
       "<p>3169 rows × 5 columns</p>\n",
       "</div>"
      ],
      "text/plain": [
       "                    TOT_SALES  TOTAL_CUSTOMERS  TXN_PER_CUST  CHIPS_PER_CUST  \\\n",
       "STORE_NBR MONTH_ID                                                             \n",
       "1         201807        206.9               49      1.061224        1.265306   \n",
       "          201808        176.1               42      1.023810        1.285714   \n",
       "          201809        278.8               59      1.050847        1.271186   \n",
       "          201810        188.1               44      1.022727        1.318182   \n",
       "          201811        192.6               46      1.021739        1.239130   \n",
       "...                       ...              ...           ...             ...   \n",
       "272       201902        395.5               45      1.066667        2.022222   \n",
       "          201903        442.3               50      1.060000        2.020000   \n",
       "          201904        445.1               54      1.018519        1.944444   \n",
       "          201905        314.6               34      1.176471        2.088235   \n",
       "          201906        312.1               34      1.088235        2.058824   \n",
       "\n",
       "                    AVG_PRICE_PER_UNIT  \n",
       "STORE_NBR MONTH_ID                      \n",
       "1         201807              3.384615  \n",
       "          201808              3.329070  \n",
       "          201809              3.685484  \n",
       "          201810              3.288889  \n",
       "          201811              3.412766  \n",
       "...                                ...  \n",
       "272       201902              4.358333  \n",
       "          201903              4.350943  \n",
       "          201904              4.248214  \n",
       "          201905              4.437500  \n",
       "          201906              4.424324  \n",
       "\n",
       "[3169 rows x 5 columns]"
      ]
     },
     "execution_count": 5,
     "metadata": {},
     "output_type": "execute_result"
    }
   ],
   "source": [
    "#Grouping values according to store number and month ID\n",
    "grp=df.groupby(['STORE_NBR','MONTH_ID'])\n",
    "sumdf=grp.sum()\n",
    "countdf = grp.nunique()\n",
    "\n",
    "#Creating a result dataframe : 'resultdf' -- This dataframe contains the data required and it will further be used for cleaning\n",
    "resultdf = grp.sum()[['TOT_SALES']]\n",
    "resultdf['TOTAL_CUSTOMERS']=0\n",
    "resultdf['TXN_PER_CUST']=0\n",
    "resultdf['CHIPS_PER_CUST']=0\n",
    "resultdf['AVG_PRICE_PER_UNIT']=0\n",
    "\n",
    "#Performing calculations \n",
    "totalcust = countdf['LYLTY_CARD_NBR']\n",
    "txnpercust = countdf['TXN_ID']/countdf['LYLTY_CARD_NBR']\n",
    "chipspercust = sumdf['PROD_QTY']/countdf['LYLTY_CARD_NBR']\n",
    "avgpriceperunit = grp.mean()['PRICE_PER_UNIT']\n",
    "\n",
    "#Initialising values in dataframe\n",
    "resultdf['TOTAL_CUSTOMERS']+=totalcust\n",
    "resultdf['TXN_PER_CUST']+=txnpercust\n",
    "resultdf['CHIPS_PER_CUST']+=chipspercust\n",
    "resultdf['AVG_PRICE_PER_UNIT']+=avgpriceperunit\n",
    "resultdf"
   ]
  },
  {
   "cell_type": "markdown",
   "metadata": {},
   "source": [
    "#### Creating a data frame \"allTimeData\" -- containing data of stores that are available for whole observation period"
   ]
  },
  {
   "cell_type": "code",
   "execution_count": 6,
   "metadata": {},
   "outputs": [
    {
     "name": "stdout",
     "output_type": "stream",
     "text": [
      "<class 'pandas.core.frame.DataFrame'>\n",
      "MultiIndex: 3120 entries, (1, 201807) to (272, 201906)\n",
      "Data columns (total 5 columns):\n",
      " #   Column              Non-Null Count  Dtype  \n",
      "---  ------              --------------  -----  \n",
      " 0   TOT_SALES           3120 non-null   float64\n",
      " 1   TOTAL_CUSTOMERS     3120 non-null   int64  \n",
      " 2   TXN_PER_CUST        3120 non-null   float64\n",
      " 3   CHIPS_PER_CUST      3120 non-null   float64\n",
      " 4   AVG_PRICE_PER_UNIT  3120 non-null   float64\n",
      "dtypes: float64(4), int64(1)\n",
      "memory usage: 143.3 KB\n"
     ]
    }
   ],
   "source": [
    "#Removing the stores which are not available for full observation periods \n",
    "allTimeData = resultdf.copy()\n",
    "def check12():\n",
    "    for i in range(272):\n",
    "        if allTimeData.loc[i+1].index.nunique() != 12:\n",
    "            #print(\"{} : {}\".format(i+1,allTimeData.loc[i+1].index.nunique())) #Uncomment to find which Stores are removed\n",
    "            allTimeData.drop(i+1,inplace=True)\n",
    "check12()\n",
    "allTimeData.info()"
   ]
  },
  {
   "cell_type": "markdown",
   "metadata": {},
   "source": [
    "#### Creating a data frame that contains all the values before beginning of trial period"
   ]
  },
  {
   "cell_type": "code",
   "execution_count": 7,
   "metadata": {},
   "outputs": [
    {
     "name": "stdout",
     "output_type": "stream",
     "text": [
      "<class 'pandas.core.frame.DataFrame'>\n",
      "MultiIndex: 1820 entries, (1, 201807) to (272, 201901)\n",
      "Data columns (total 5 columns):\n",
      " #   Column              Non-Null Count  Dtype  \n",
      "---  ------              --------------  -----  \n",
      " 0   TOT_SALES           1820 non-null   float64\n",
      " 1   TOTAL_CUSTOMERS     1820 non-null   int64  \n",
      " 2   TXN_PER_CUST        1820 non-null   float64\n",
      " 3   CHIPS_PER_CUST      1820 non-null   float64\n",
      " 4   AVG_PRICE_PER_UNIT  1820 non-null   float64\n",
      "dtypes: float64(4), int64(1)\n",
      "memory usage: 88.9 KB\n"
     ]
    }
   ],
   "source": [
    "#Considering data before trial period begins\n",
    "pretrialdf= allTimeData.copy()\n",
    "pretrialdf.reset_index(inplace=True)\n",
    "pretrialdf = pretrialdf[pretrialdf['MONTH_ID']<201902]\n",
    "pretrialdf.set_index(['STORE_NBR','MONTH_ID'],inplace=True)\n",
    "pretrialdf.info()"
   ]
  },
  {
   "cell_type": "markdown",
   "metadata": {},
   "source": [
    "#### Creating a dataframe that contains only the data of trial stores (i.e. 77, 86, 88)"
   ]
  },
  {
   "cell_type": "code",
   "execution_count": 8,
   "metadata": {},
   "outputs": [],
   "source": [
    "trialStoresdf = pretrialdf.loc[[77,86,88]]\n",
    "#Removing the trial stores from the data to avoid selecting the trial store itself\n",
    "pretrialdf.drop([86,88,77],inplace=True)"
   ]
  },
  {
   "cell_type": "markdown",
   "metadata": {},
   "source": [
    "#### Finding correlation with other stores"
   ]
  },
  {
   "cell_type": "code",
   "execution_count": 9,
   "metadata": {},
   "outputs": [],
   "source": [
    "row_indexes = list(pretrialdf.xs(201807,level='MONTH_ID').index)\n",
    "yearMonths = list(pretrialdf.loc[1].index)\n",
    "corrTable=pd.DataFrame(index=row_indexes)\n",
    "corrTable['nSales']=0\n",
    "corrTable['nCustomers']=0\n",
    "corrTable.index.names=['STORE_NBR']\n",
    "\n",
    "#Function to calculate correlation\n",
    "def calcCorr(trialStoreNo):\n",
    "    corrT = corrTable.copy()\n",
    "    trialtmp = trialStoresdf.copy()\n",
    "    pretmp = pretrialdf.copy()    \n",
    "    seriestmp = trialtmp.loc[trialStoreNo]\n",
    "    s_nSales = seriestmp['TOT_SALES']\n",
    "    s_nCustomers = seriestmp['TOTAL_CUSTOMERS']\n",
    "    for i in row_indexes:\n",
    "        df1 = pretmp.loc[i]\n",
    "        d_nSales = df1[['TOT_SALES']]\n",
    "        d_nCustomers = df1[['TOTAL_CUSTOMERS']]\n",
    "        corr_nSales = d_nSales.corrwith(s_nSales)\n",
    "        corr_nCustomers = d_nCustomers.corrwith(s_nCustomers)\n",
    "        corrT['nSales'].loc[i] = corr_nSales['TOT_SALES'] \n",
    "        corrT['nCustomers'].loc[i]=corr_nCustomers['TOTAL_CUSTOMERS']\n",
    "    return corrT"
   ]
  },
  {
   "cell_type": "code",
   "execution_count": 10,
   "metadata": {},
   "outputs": [
    {
     "name": "stderr",
     "output_type": "stream",
     "text": [
      "C:\\Users\\ybhat\\Anaconda3\\lib\\site-packages\\pandas\\core\\indexing.py:670: SettingWithCopyWarning: \n",
      "A value is trying to be set on a copy of a slice from a DataFrame\n",
      "\n",
      "See the caveats in the documentation: https://pandas.pydata.org/pandas-docs/stable/user_guide/indexing.html#returning-a-view-versus-a-copy\n",
      "  iloc._setitem_with_indexer(indexer, value)\n"
     ]
    }
   ],
   "source": [
    "#Calculating correlation with trial store-77\n",
    "corrSt_77 = calcCorr(77)\n",
    "#Calculating correlation with trial store-86\n",
    "corrSt_86 = calcCorr(86)\n",
    "#Calculating correlation with trial store-88\n",
    "corrSt_88 = calcCorr(88)\n",
    "#print(\"\\nCorrealtion with Store 77 :- \\n\\n{}\".format(corrSt_77.head()))\n",
    "#print(\"\\nCorrealtion with Store 86 :- \\n\\n{}\".format(corrSt_86.head()))\n",
    "#print(\"\\nCorrealtion with Store 88 :- \\n\\n{}\".format(corrSt_88.head()))"
   ]
  },
  {
   "cell_type": "markdown",
   "metadata": {},
   "source": [
    "#### Finding \"standardized magnitude distance\" with other stores :--"
   ]
  },
  {
   "cell_type": "code",
   "execution_count": 11,
   "metadata": {},
   "outputs": [],
   "source": [
    "#Finding magnitude of distance\n",
    "def magnDist(trialSt):\n",
    "        tmpdataframe = trialStoresdf.loc[trialSt].copy()\n",
    "        tmpdataframe = abs(pretrialdf-tmpdataframe)\n",
    "        #To standardise the magnitude distance\n",
    "        maxseries = tmpdataframe.max()\n",
    "        minseries = tmpdataframe.min()\n",
    "        tmpdataframe = 1 - ((tmpdataframe-minseries)/(maxseries-minseries))\n",
    "        tmpdf = tmpdataframe.reset_index().groupby('STORE_NBR').mean().drop('MONTH_ID',axis=1)[['TOT_SALES','TOTAL_CUSTOMERS']]\n",
    "        return tmpdf\n",
    "\n",
    "#Finding std magnitude distance between trial and other stores\n",
    "magnDist77 = magnDist(77)\n",
    "magnDist86 = magnDist(86)\n",
    "magnDist88 = magnDist(88)\n",
    "#print(\"\\nStd distance with Store 77 :- \\n\\n{}\".format(magnDist77.head()))\n",
    "#print(\"\\nStd distance with Store 86 :- \\n\\n{}\".format(magnDist86.head()))\n",
    "#print(\"\\nStd distance with Store 88 :- \\n\\n{}\".format(magnDist88.head()))"
   ]
  },
  {
   "cell_type": "markdown",
   "metadata": {},
   "source": [
    "#### Finding CONTROL center "
   ]
  },
  {
   "cell_type": "code",
   "execution_count": 12,
   "metadata": {},
   "outputs": [],
   "source": [
    "#To calculate total score and find control center\n",
    "def calcTotalScore(corrTbl,magnTbl):\n",
    "    combinedScoreTable = 0\n",
    "    #After merging all 4 scores\n",
    "    combinedScoreTable = pd.concat([corrTbl,magnTbl],axis=1)\n",
    "    #Calculating total score\n",
    "    combinedScoreTable['Total_Score']=combinedScoreTable.mean(axis=1)\n",
    "    #Maximum score\n",
    "    storeNBR = combinedScoreTable[combinedScoreTable['Total_Score']==combinedScoreTable['Total_Score'].max()].index[0]\n",
    "    return storeNBR"
   ]
  },
  {
   "cell_type": "markdown",
   "metadata": {},
   "source": [
    "#### Fetching sum() value of a particular column of a store before the beginning of trial period"
   ]
  },
  {
   "cell_type": "code",
   "execution_count": 13,
   "metadata": {},
   "outputs": [],
   "source": [
    "def fetchVal(store_n,col_name):\n",
    "    i = allTimeData.xs(store_n,level='STORE_NBR').loc[:201901].sum()[col_name]\n",
    "    i=round(i,2)\n",
    "    return i"
   ]
  },
  {
   "cell_type": "markdown",
   "metadata": {},
   "source": [
    "#### To calculate scaling factor"
   ]
  },
  {
   "cell_type": "code",
   "execution_count": 14,
   "metadata": {},
   "outputs": [],
   "source": [
    "def calcScalingFactor(trial_n,control_n,col_name):\n",
    "    trial_nValue = fetchVal(trial_n,col_name)\n",
    "    control_nValue = fetchVal(control_n,col_name)\n",
    "    return trial_nValue/control_nValue"
   ]
  },
  {
   "cell_type": "markdown",
   "metadata": {},
   "source": [
    "___\n",
    "## Store-77 : Performance Analysis"
   ]
  },
  {
   "cell_type": "code",
   "execution_count": 15,
   "metadata": {},
   "outputs": [
    {
     "name": "stdout",
     "output_type": "stream",
     "text": [
      "Control store for Store 77 is Store 233\n"
     ]
    }
   ],
   "source": [
    "store77 = calcTotalScore(corrSt_77,magnDist77)\n",
    "print(\"Control store for Store 77 is Store {}\".format(store77))"
   ]
  },
  {
   "cell_type": "markdown",
   "metadata": {},
   "source": [
    "#### Setting variables for ease of code"
   ]
  },
  {
   "cell_type": "code",
   "execution_count": 16,
   "metadata": {},
   "outputs": [],
   "source": [
    "TrialStoreNo = 77\n",
    "ControlStoreNo = store77"
   ]
  },
  {
   "cell_type": "markdown",
   "metadata": {},
   "source": [
    "#### Making a comparison table for total sales and customers"
   ]
  },
  {
   "cell_type": "code",
   "execution_count": 17,
   "metadata": {},
   "outputs": [],
   "source": [
    "control_Sales = fetchVal(ControlStoreNo,'TOT_SALES')\n",
    "control_Cust = fetchVal(ControlStoreNo ,'TOTAL_CUSTOMERS')\n",
    "trial_Sales = fetchVal(TrialStoreNo,'TOT_SALES')\n",
    "trial_Cust = fetchVal(TrialStoreNo,'TOTAL_CUSTOMERS')\n",
    "\n",
    "#Creating new dataframe 'compartable'\n",
    "comparTable = pd.DataFrame(index=['TOT_SALES','TOT_CUSTOMER'],columns=['TRIAL_ST','CONTROL_ST'])\n",
    "comparTable['TRIAL_ST']['TOT_SALES'] = trial_Sales\n",
    "comparTable['TRIAL_ST']['TOT_CUSTOMER'] = trial_Cust\n",
    "comparTable['CONTROL_ST']['TOT_SALES'] = control_Sales\n",
    "comparTable['CONTROL_ST']['TOT_CUSTOMER'] = control_Cust\n",
    "comparTable=comparTable.transpose()"
   ]
  },
  {
   "cell_type": "code",
   "execution_count": 18,
   "metadata": {},
   "outputs": [
    {
     "data": {
      "image/png": "[encoded data removed]",
      "text/plain": [
       "<Figure size 900x250 with 2 Axes>"
      ]
     },
     "metadata": {
      "needs_background": "light"
     },
     "output_type": "display_data"
    }
   ],
   "source": [
    "#Comparing data of trial store and control store\n",
    "x=comparTable\n",
    "fig =plt.figure(figsize=(9,2.5),dpi=100)\n",
    "ax = fig.add_axes([0,0,1,1])\n",
    "plt.subplot(1,2,1)\n",
    "plt.title(\"Total Sales comparison\")\n",
    "sns.barplot(x=x.index,y='TOT_SALES',data=x)\n",
    "plt.subplot(1,2,2)\n",
    "plt.title(\"Total Customers comparison\")\n",
    "sns.barplot(x=x.index,y='TOT_CUSTOMER',data=x)\n",
    "plt.tight_layout()"
   ]
  },
  {
   "cell_type": "markdown",
   "metadata": {},
   "source": [
    "### Sales of store-77"
   ]
  },
  {
   "cell_type": "markdown",
   "metadata": {},
   "source": [
    "#### Assigning Variables for ease of code"
   ]
  },
  {
   "cell_type": "code",
   "execution_count": 19,
   "metadata": {},
   "outputs": [],
   "source": [
    "columnName = 'TOT_SALES'"
   ]
  },
  {
   "cell_type": "code",
   "execution_count": 20,
   "metadata": {},
   "outputs": [
    {
     "data": {
      "text/plain": [
       "1.023617303289553"
      ]
     },
     "execution_count": 20,
     "metadata": {},
     "output_type": "execute_result"
    }
   ],
   "source": [
    "scalingFactor = calcScalingFactor(TrialStoreNo,ControlStoreNo,columnName)\n",
    "scalingFactor"
   ]
  },
  {
   "cell_type": "markdown",
   "metadata": {},
   "source": [
    "#### Making dataframes needed for Control & Trial Center"
   ]
  },
  {
   "cell_type": "code",
   "execution_count": 21,
   "metadata": {},
   "outputs": [],
   "source": [
    "controlStoredata = allTimeData.loc[ControlStoreNo].copy()\n",
    "trialstoredata = allTimeData.loc[TrialStoreNo].copy()"
   ]
  },
  {
   "cell_type": "markdown",
   "metadata": {},
   "source": [
    "#### Applying scaling factor"
   ]
  },
  {
   "cell_type": "code",
   "execution_count": 22,
   "metadata": {},
   "outputs": [
    {
     "data": {
      "text/html": [
       "<div>\n",
       "<style scoped>\n",
       "    .dataframe tbody tr th:only-of-type {\n",
       "        vertical-align: middle;\n",
       "    }\n",
       "\n",
       "    .dataframe tbody tr th {\n",
       "        vertical-align: top;\n",
       "    }\n",
       "\n",
       "    .dataframe thead th {\n",
       "        text-align: right;\n",
       "    }\n",
       "</style>\n",
       "<table border=\"1\" class=\"dataframe\">\n",
       "  <thead>\n",
       "    <tr style=\"text-align: right;\">\n",
       "      <th></th>\n",
       "      <th>TOT_SALES</th>\n",
       "    </tr>\n",
       "    <tr>\n",
       "      <th>MONTH_ID</th>\n",
       "      <th></th>\n",
       "    </tr>\n",
       "  </thead>\n",
       "  <tbody>\n",
       "    <tr>\n",
       "      <th>201807</th>\n",
       "      <td>297.565550</td>\n",
       "    </tr>\n",
       "    <tr>\n",
       "      <th>201808</th>\n",
       "      <td>292.652187</td>\n",
       "    </tr>\n",
       "    <tr>\n",
       "      <th>201809</th>\n",
       "      <td>233.998916</td>\n",
       "    </tr>\n",
       "    <tr>\n",
       "      <th>201810</th>\n",
       "      <td>190.085733</td>\n",
       "    </tr>\n",
       "    <tr>\n",
       "      <th>201811</th>\n",
       "      <td>216.597421</td>\n",
       "    </tr>\n",
       "  </tbody>\n",
       "</table>\n",
       "</div>"
      ],
      "text/plain": [
       "           TOT_SALES\n",
       "MONTH_ID            \n",
       "201807    297.565550\n",
       "201808    292.652187\n",
       "201809    233.998916\n",
       "201810    190.085733\n",
       "201811    216.597421"
      ]
     },
     "execution_count": 22,
     "metadata": {},
     "output_type": "execute_result"
    }
   ],
   "source": [
    "#After scaling\n",
    "scaleddata=controlStoredata[[columnName]]*scalingFactor\n",
    "scaleddata.head()"
   ]
  },
  {
   "cell_type": "code",
   "execution_count": 23,
   "metadata": {},
   "outputs": [
    {
     "data": {
      "text/html": [
       "<div>\n",
       "<style scoped>\n",
       "    .dataframe tbody tr th:only-of-type {\n",
       "        vertical-align: middle;\n",
       "    }\n",
       "\n",
       "    .dataframe tbody tr th {\n",
       "        vertical-align: top;\n",
       "    }\n",
       "\n",
       "    .dataframe thead th {\n",
       "        text-align: right;\n",
       "    }\n",
       "</style>\n",
       "<table border=\"1\" class=\"dataframe\">\n",
       "  <thead>\n",
       "    <tr style=\"text-align: right;\">\n",
       "      <th></th>\n",
       "      <th>TOT_SALES</th>\n",
       "    </tr>\n",
       "    <tr>\n",
       "      <th>MONTH_ID</th>\n",
       "      <th></th>\n",
       "    </tr>\n",
       "  </thead>\n",
       "  <tbody>\n",
       "    <tr>\n",
       "      <th>201807</th>\n",
       "      <td>0.257271</td>\n",
       "    </tr>\n",
       "    <tr>\n",
       "      <th>201808</th>\n",
       "      <td>12.694997</td>\n",
       "    </tr>\n",
       "    <tr>\n",
       "      <th>201809</th>\n",
       "      <td>3.760238</td>\n",
       "    </tr>\n",
       "    <tr>\n",
       "      <th>201810</th>\n",
       "      <td>7.583035</td>\n",
       "    </tr>\n",
       "    <tr>\n",
       "      <th>201811</th>\n",
       "      <td>13.251579</td>\n",
       "    </tr>\n",
       "  </tbody>\n",
       "</table>\n",
       "</div>"
      ],
      "text/plain": [
       "          TOT_SALES\n",
       "MONTH_ID           \n",
       "201807     0.257271\n",
       "201808    12.694997\n",
       "201809     3.760238\n",
       "201810     7.583035\n",
       "201811    13.251579"
      ]
     },
     "execution_count": 23,
     "metadata": {},
     "output_type": "execute_result"
    }
   ],
   "source": [
    "percentDiff_Sales = abs(scaleddata[[columnName]]-trialstoredata[[columnName]])*100/scaleddata[[columnName]]\n",
    "percentDiff_Sales.head()"
   ]
  },
  {
   "cell_type": "code",
   "execution_count": 24,
   "metadata": {},
   "outputs": [
    {
     "name": "stdout",
     "output_type": "stream",
     "text": [
      "Mean of scaled control store = 205.3\n",
      "Mean of Trial store = 259.0\n",
      "Standard deviation of data = 4.9941\n"
     ]
    }
   ],
   "source": [
    "#Finding means and std. deviation\n",
    "meanControl = scaleddata.loc[201902:201904].copy()\n",
    "m_Cont = meanControl[columnName].mean()\n",
    "m_Cont = round(m_Cont,2)\n",
    "\n",
    "meanTrial = trialstoredata.loc[201902:201904].copy()\n",
    "m_Trial = meanTrial[columnName].mean()\n",
    "m_Trial = round(m_Trial,2)\n",
    "\n",
    "stdDev = (percentDiff_Sales.loc[:201901]).std()\n",
    "stdDev = stdDev[columnName]\n",
    "stdDev = round(stdDev,4)\n",
    "\n",
    "print(\"Mean of scaled control store = {}\".format(m_Cont))\n",
    "print(\"Mean of Trial store = {}\".format(m_Trial))\n",
    "print(\"Standard deviation of data = {}\".format(stdDev))"
   ]
  },
  {
   "cell_type": "code",
   "execution_count": 25,
   "metadata": {},
   "outputs": [
    {
     "name": "stdout",
     "output_type": "stream",
     "text": [
      "t-statistic = 10.7527\n",
      "t-critical = 1.8946\n"
     ]
    }
   ],
   "source": [
    "# Performing t-test for alpha=0.05\n",
    "from scipy.stats import t\n",
    "#Calculating t-statistic\n",
    "t_stat = abs(m_Cont-m_Trial)/stdDev\n",
    "t_stat = round(t_stat,4)\n",
    "#Calculating critical t-value\n",
    "alpha=0.05\n",
    "degree = 8-1\n",
    "cv_t = t.ppf(1-alpha, degree)\n",
    "cv_t = round(cv_t,4)\n",
    "print(\"t-statistic = {}\".format(t_stat))\n",
    "print(\"t-critical = {}\".format(cv_t))"
   ]
  },
  {
   "cell_type": "markdown",
   "metadata": {},
   "source": [
    "#### Visualizing our data"
   ]
  },
  {
   "cell_type": "code",
   "execution_count": 26,
   "metadata": {},
   "outputs": [
    {
     "data": {
      "text/html": [
       "<div>\n",
       "<style scoped>\n",
       "    .dataframe tbody tr th:only-of-type {\n",
       "        vertical-align: middle;\n",
       "    }\n",
       "\n",
       "    .dataframe tbody tr th {\n",
       "        vertical-align: top;\n",
       "    }\n",
       "\n",
       "    .dataframe thead th {\n",
       "        text-align: right;\n",
       "    }\n",
       "</style>\n",
       "<table border=\"1\" class=\"dataframe\">\n",
       "  <thead>\n",
       "    <tr style=\"text-align: right;\">\n",
       "      <th></th>\n",
       "      <th>Transaction_Month</th>\n",
       "      <th>Total_Sales</th>\n",
       "      <th>Store_Type</th>\n",
       "    </tr>\n",
       "  </thead>\n",
       "  <tbody>\n",
       "    <tr>\n",
       "      <th>0</th>\n",
       "      <td>201807</td>\n",
       "      <td>290.7</td>\n",
       "      <td>Control_Store</td>\n",
       "    </tr>\n",
       "    <tr>\n",
       "      <th>1</th>\n",
       "      <td>201808</td>\n",
       "      <td>285.9</td>\n",
       "      <td>Control_Store</td>\n",
       "    </tr>\n",
       "    <tr>\n",
       "      <th>2</th>\n",
       "      <td>201809</td>\n",
       "      <td>228.6</td>\n",
       "      <td>Control_Store</td>\n",
       "    </tr>\n",
       "    <tr>\n",
       "      <th>3</th>\n",
       "      <td>201810</td>\n",
       "      <td>185.7</td>\n",
       "      <td>Control_Store</td>\n",
       "    </tr>\n",
       "    <tr>\n",
       "      <th>4</th>\n",
       "      <td>201811</td>\n",
       "      <td>211.6</td>\n",
       "      <td>Control_Store</td>\n",
       "    </tr>\n",
       "  </tbody>\n",
       "</table>\n",
       "</div>"
      ],
      "text/plain": [
       "   Transaction_Month  Total_Sales     Store_Type\n",
       "0             201807        290.7  Control_Store\n",
       "1             201808        285.9  Control_Store\n",
       "2             201809        228.6  Control_Store\n",
       "3             201810        185.7  Control_Store\n",
       "4             201811        211.6  Control_Store"
      ]
     },
     "execution_count": 26,
     "metadata": {},
     "output_type": "execute_result"
    }
   ],
   "source": [
    "newName = \"Total_Sales\"\n",
    "# Data of CONTROL STORE\n",
    "tmp_Controldf = controlStoredata.reset_index()\n",
    "tmp_Controldf = tmp_Controldf[['MONTH_ID',columnName]]\n",
    "tmp_Controldf['Store_Type']=\"Control_Store\"\n",
    "tmp_Controldf.rename(columns={'MONTH_ID':\"Transaction_Month\",columnName:newName},inplace=True)\n",
    "tmp_Controldf.head()"
   ]
  },
  {
   "cell_type": "code",
   "execution_count": 27,
   "metadata": {},
   "outputs": [
    {
     "data": {
      "text/html": [
       "<div>\n",
       "<style scoped>\n",
       "    .dataframe tbody tr th:only-of-type {\n",
       "        vertical-align: middle;\n",
       "    }\n",
       "\n",
       "    .dataframe tbody tr th {\n",
       "        vertical-align: top;\n",
       "    }\n",
       "\n",
       "    .dataframe thead th {\n",
       "        text-align: right;\n",
       "    }\n",
       "</style>\n",
       "<table border=\"1\" class=\"dataframe\">\n",
       "  <thead>\n",
       "    <tr style=\"text-align: right;\">\n",
       "      <th></th>\n",
       "      <th>Transaction_Month</th>\n",
       "      <th>Total_Sales</th>\n",
       "      <th>Store_Type</th>\n",
       "    </tr>\n",
       "  </thead>\n",
       "  <tbody>\n",
       "    <tr>\n",
       "      <th>0</th>\n",
       "      <td>201807</td>\n",
       "      <td>296.8</td>\n",
       "      <td>Trial_Store</td>\n",
       "    </tr>\n",
       "    <tr>\n",
       "      <th>1</th>\n",
       "      <td>201808</td>\n",
       "      <td>255.5</td>\n",
       "      <td>Trial_Store</td>\n",
       "    </tr>\n",
       "    <tr>\n",
       "      <th>2</th>\n",
       "      <td>201809</td>\n",
       "      <td>225.2</td>\n",
       "      <td>Trial_Store</td>\n",
       "    </tr>\n",
       "    <tr>\n",
       "      <th>3</th>\n",
       "      <td>201810</td>\n",
       "      <td>204.5</td>\n",
       "      <td>Trial_Store</td>\n",
       "    </tr>\n",
       "    <tr>\n",
       "      <th>4</th>\n",
       "      <td>201811</td>\n",
       "      <td>245.3</td>\n",
       "      <td>Trial_Store</td>\n",
       "    </tr>\n",
       "  </tbody>\n",
       "</table>\n",
       "</div>"
      ],
      "text/plain": [
       "   Transaction_Month  Total_Sales   Store_Type\n",
       "0             201807        296.8  Trial_Store\n",
       "1             201808        255.5  Trial_Store\n",
       "2             201809        225.2  Trial_Store\n",
       "3             201810        204.5  Trial_Store\n",
       "4             201811        245.3  Trial_Store"
      ]
     },
     "execution_count": 27,
     "metadata": {},
     "output_type": "execute_result"
    }
   ],
   "source": [
    "# Data of TRIAL STORE\n",
    "tmp_Trialdf = trialstoredata.reset_index()\n",
    "tmp_Trialdf = tmp_Trialdf[['MONTH_ID',columnName]]\n",
    "tmp_Trialdf['Store_Type']=\"Trial_Store\"\n",
    "tmp_Trialdf.rename(columns={'MONTH_ID':\"Transaction_Month\",columnName:newName},inplace=True)\n",
    "tmp_Trialdf.head()"
   ]
  },
  {
   "cell_type": "code",
   "execution_count": 28,
   "metadata": {},
   "outputs": [
    {
     "data": {
      "text/html": [
       "<div>\n",
       "<style scoped>\n",
       "    .dataframe tbody tr th:only-of-type {\n",
       "        vertical-align: middle;\n",
       "    }\n",
       "\n",
       "    .dataframe tbody tr th {\n",
       "        vertical-align: top;\n",
       "    }\n",
       "\n",
       "    .dataframe thead th {\n",
       "        text-align: right;\n",
       "    }\n",
       "</style>\n",
       "<table border=\"1\" class=\"dataframe\">\n",
       "  <thead>\n",
       "    <tr style=\"text-align: right;\">\n",
       "      <th></th>\n",
       "      <th>Transaction_Month</th>\n",
       "      <th>Total_Sales</th>\n",
       "      <th>Store_Type</th>\n",
       "    </tr>\n",
       "  </thead>\n",
       "  <tbody>\n",
       "    <tr>\n",
       "      <th>0</th>\n",
       "      <td>201807</td>\n",
       "      <td>280.7118</td>\n",
       "      <td>Control 5 % Confidence</td>\n",
       "    </tr>\n",
       "    <tr>\n",
       "      <th>1</th>\n",
       "      <td>201808</td>\n",
       "      <td>275.9118</td>\n",
       "      <td>Control 5 % Confidence</td>\n",
       "    </tr>\n",
       "    <tr>\n",
       "      <th>2</th>\n",
       "      <td>201809</td>\n",
       "      <td>218.6118</td>\n",
       "      <td>Control 5 % Confidence</td>\n",
       "    </tr>\n",
       "    <tr>\n",
       "      <th>3</th>\n",
       "      <td>201810</td>\n",
       "      <td>175.7118</td>\n",
       "      <td>Control 5 % Confidence</td>\n",
       "    </tr>\n",
       "    <tr>\n",
       "      <th>4</th>\n",
       "      <td>201811</td>\n",
       "      <td>201.6118</td>\n",
       "      <td>Control 5 % Confidence</td>\n",
       "    </tr>\n",
       "  </tbody>\n",
       "</table>\n",
       "</div>"
      ],
      "text/plain": [
       "   Transaction_Month  Total_Sales              Store_Type\n",
       "0             201807     280.7118  Control 5 % Confidence\n",
       "1             201808     275.9118  Control 5 % Confidence\n",
       "2             201809     218.6118  Control 5 % Confidence\n",
       "3             201810     175.7118  Control 5 % Confidence\n",
       "4             201811     201.6118  Control 5 % Confidence"
      ]
     },
     "execution_count": 28,
     "metadata": {},
     "output_type": "execute_result"
    }
   ],
   "source": [
    "# Data of CONTROL store with 95% confidence\n",
    "pastSales_Control05 = tmp_Controldf.copy()\n",
    "pastSales_Control05[newName] = pastSales_Control05[newName]  - (stdDev*2)\n",
    "pastSales_Control05['Store_Type'] = \"Control 5 % Confidence\"\n",
    "pastSales_Control05.head()"
   ]
  },
  {
   "cell_type": "code",
   "execution_count": 29,
   "metadata": {},
   "outputs": [
    {
     "data": {
      "text/html": [
       "<div>\n",
       "<style scoped>\n",
       "    .dataframe tbody tr th:only-of-type {\n",
       "        vertical-align: middle;\n",
       "    }\n",
       "\n",
       "    .dataframe tbody tr th {\n",
       "        vertical-align: top;\n",
       "    }\n",
       "\n",
       "    .dataframe thead th {\n",
       "        text-align: right;\n",
       "    }\n",
       "</style>\n",
       "<table border=\"1\" class=\"dataframe\">\n",
       "  <thead>\n",
       "    <tr style=\"text-align: right;\">\n",
       "      <th></th>\n",
       "      <th>Transaction_Month</th>\n",
       "      <th>Total_Sales</th>\n",
       "      <th>Store_Type</th>\n",
       "    </tr>\n",
       "  </thead>\n",
       "  <tbody>\n",
       "    <tr>\n",
       "      <th>0</th>\n",
       "      <td>201807</td>\n",
       "      <td>300.6882</td>\n",
       "      <td>Control 95 % Confidence</td>\n",
       "    </tr>\n",
       "    <tr>\n",
       "      <th>1</th>\n",
       "      <td>201808</td>\n",
       "      <td>295.8882</td>\n",
       "      <td>Control 95 % Confidence</td>\n",
       "    </tr>\n",
       "    <tr>\n",
       "      <th>2</th>\n",
       "      <td>201809</td>\n",
       "      <td>238.5882</td>\n",
       "      <td>Control 95 % Confidence</td>\n",
       "    </tr>\n",
       "    <tr>\n",
       "      <th>3</th>\n",
       "      <td>201810</td>\n",
       "      <td>195.6882</td>\n",
       "      <td>Control 95 % Confidence</td>\n",
       "    </tr>\n",
       "    <tr>\n",
       "      <th>4</th>\n",
       "      <td>201811</td>\n",
       "      <td>221.5882</td>\n",
       "      <td>Control 95 % Confidence</td>\n",
       "    </tr>\n",
       "  </tbody>\n",
       "</table>\n",
       "</div>"
      ],
      "text/plain": [
       "   Transaction_Month  Total_Sales               Store_Type\n",
       "0             201807     300.6882  Control 95 % Confidence\n",
       "1             201808     295.8882  Control 95 % Confidence\n",
       "2             201809     238.5882  Control 95 % Confidence\n",
       "3             201810     195.6882  Control 95 % Confidence\n",
       "4             201811     221.5882  Control 95 % Confidence"
      ]
     },
     "execution_count": 29,
     "metadata": {},
     "output_type": "execute_result"
    }
   ],
   "source": [
    "# Data of CONTROL store with 5% confidence\n",
    "pastSales_Control95 = tmp_Controldf.copy()\n",
    "pastSales_Control95[newName] = pastSales_Control95[newName]  + (stdDev*2)\n",
    "pastSales_Control95['Store_Type'] = \"Control 95 % Confidence\"\n",
    "pastSales_Control95.head()"
   ]
  },
  {
   "cell_type": "code",
   "execution_count": 30,
   "metadata": {},
   "outputs": [
    {
     "name": "stdout",
     "output_type": "stream",
     "text": [
      "<class 'pandas.core.frame.DataFrame'>\n",
      "RangeIndex: 48 entries, 0 to 47\n",
      "Data columns (total 3 columns):\n",
      " #   Column             Non-Null Count  Dtype  \n",
      "---  ------             --------------  -----  \n",
      " 0   Store_Type         48 non-null     object \n",
      " 1   Total_Sales        48 non-null     float64\n",
      " 2   Transaction_Month  48 non-null     object \n",
      "dtypes: float64(1), object(2)\n",
      "memory usage: 1.2+ KB\n"
     ]
    }
   ],
   "source": [
    "# Merging all data into one dataframe\n",
    "pastSales = pd.DataFrame(columns=['Store_Type',newName,'Transaction_Month'])\n",
    "pastSales = pd.concat([pastSales,pastSales_Control05,tmp_Trialdf,tmp_Controldf,pastSales_Control95])\n",
    "pastSales.reset_index(inplace = True)\n",
    "pastSales.drop('index',axis=1,inplace=True)\n",
    "pastSales.info()"
   ]
  },
  {
   "cell_type": "code",
   "execution_count": 31,
   "metadata": {},
   "outputs": [
    {
     "data": {
      "text/html": [
       "<div>\n",
       "<style scoped>\n",
       "    .dataframe tbody tr th:only-of-type {\n",
       "        vertical-align: middle;\n",
       "    }\n",
       "\n",
       "    .dataframe tbody tr th {\n",
       "        vertical-align: top;\n",
       "    }\n",
       "\n",
       "    .dataframe thead th {\n",
       "        text-align: right;\n",
       "    }\n",
       "</style>\n",
       "<table border=\"1\" class=\"dataframe\">\n",
       "  <thead>\n",
       "    <tr style=\"text-align: right;\">\n",
       "      <th></th>\n",
       "      <th>Store_Type</th>\n",
       "      <th>Total_Sales</th>\n",
       "      <th>Transaction_Month</th>\n",
       "    </tr>\n",
       "  </thead>\n",
       "  <tbody>\n",
       "    <tr>\n",
       "      <th>7</th>\n",
       "      <td>Control 5 % Confidence</td>\n",
       "      <td>234.0118</td>\n",
       "      <td>201902</td>\n",
       "    </tr>\n",
       "    <tr>\n",
       "      <th>8</th>\n",
       "      <td>Control 5 % Confidence</td>\n",
       "      <td>189.1118</td>\n",
       "      <td>201903</td>\n",
       "    </tr>\n",
       "    <tr>\n",
       "      <th>9</th>\n",
       "      <td>Control 5 % Confidence</td>\n",
       "      <td>148.6118</td>\n",
       "      <td>201904</td>\n",
       "    </tr>\n",
       "    <tr>\n",
       "      <th>19</th>\n",
       "      <td>Trial_Store</td>\n",
       "      <td>235.0000</td>\n",
       "      <td>201902</td>\n",
       "    </tr>\n",
       "    <tr>\n",
       "      <th>20</th>\n",
       "      <td>Trial_Store</td>\n",
       "      <td>278.5000</td>\n",
       "      <td>201903</td>\n",
       "    </tr>\n",
       "    <tr>\n",
       "      <th>21</th>\n",
       "      <td>Trial_Store</td>\n",
       "      <td>263.5000</td>\n",
       "      <td>201904</td>\n",
       "    </tr>\n",
       "    <tr>\n",
       "      <th>31</th>\n",
       "      <td>Control_Store</td>\n",
       "      <td>244.0000</td>\n",
       "      <td>201902</td>\n",
       "    </tr>\n",
       "    <tr>\n",
       "      <th>32</th>\n",
       "      <td>Control_Store</td>\n",
       "      <td>199.1000</td>\n",
       "      <td>201903</td>\n",
       "    </tr>\n",
       "    <tr>\n",
       "      <th>33</th>\n",
       "      <td>Control_Store</td>\n",
       "      <td>158.6000</td>\n",
       "      <td>201904</td>\n",
       "    </tr>\n",
       "    <tr>\n",
       "      <th>43</th>\n",
       "      <td>Control 95 % Confidence</td>\n",
       "      <td>253.9882</td>\n",
       "      <td>201902</td>\n",
       "    </tr>\n",
       "    <tr>\n",
       "      <th>44</th>\n",
       "      <td>Control 95 % Confidence</td>\n",
       "      <td>209.0882</td>\n",
       "      <td>201903</td>\n",
       "    </tr>\n",
       "    <tr>\n",
       "      <th>45</th>\n",
       "      <td>Control 95 % Confidence</td>\n",
       "      <td>168.5882</td>\n",
       "      <td>201904</td>\n",
       "    </tr>\n",
       "  </tbody>\n",
       "</table>\n",
       "</div>"
      ],
      "text/plain": [
       "                 Store_Type  Total_Sales Transaction_Month\n",
       "7    Control 5 % Confidence     234.0118            201902\n",
       "8    Control 5 % Confidence     189.1118            201903\n",
       "9    Control 5 % Confidence     148.6118            201904\n",
       "19              Trial_Store     235.0000            201902\n",
       "20              Trial_Store     278.5000            201903\n",
       "21              Trial_Store     263.5000            201904\n",
       "31            Control_Store     244.0000            201902\n",
       "32            Control_Store     199.1000            201903\n",
       "33            Control_Store     158.6000            201904\n",
       "43  Control 95 % Confidence     253.9882            201902\n",
       "44  Control 95 % Confidence     209.0882            201903\n",
       "45  Control 95 % Confidence     168.5882            201904"
      ]
     },
     "execution_count": 31,
     "metadata": {},
     "output_type": "execute_result"
    }
   ],
   "source": [
    "trialPeriodSales = pastSales[(pastSales['Transaction_Month']<201905) & (pastSales['Transaction_Month']>201901)]\n",
    "trialPeriodSales"
   ]
  },
  {
   "cell_type": "code",
   "execution_count": 32,
   "metadata": {},
   "outputs": [],
   "source": [
    "#Deleting temporary dataframes\n",
    "del pastSales_Control05\n",
    "del pastSales_Control95\n",
    "del tmp_Controldf\n",
    "del tmp_Trialdf"
   ]
  },
  {
   "cell_type": "code",
   "execution_count": 33,
   "metadata": {},
   "outputs": [
    {
     "data": {
      "text/plain": [
       "<matplotlib.legend.Legend at 0x29234d17f98>"
      ]
     },
     "execution_count": 33,
     "metadata": {},
     "output_type": "execute_result"
    },
    {
     "data": {
      "image/png": "[encoded data removed]",
      "text/plain": [
       "<Figure size 800x300 with 1 Axes>"
      ]
     },
     "metadata": {
      "needs_background": "light"
     },
     "output_type": "display_data"
    }
   ],
   "source": [
    "fig =plt.figure(figsize=(8,3),dpi=100)\n",
    "ax = fig.add_axes([0,0,1,1])\n",
    "sns.barplot(y=newName,x='Transaction_Month',hue='Store_Type',data=trialPeriodSales)\n",
    "plt.legend(loc='center left', bbox_to_anchor=(1.0, 0.5))"
   ]
  },
  {
   "cell_type": "markdown",
   "metadata": {},
   "source": [
    "**The above graph shows that the trial in store 77 is significantly different to its control store in the trial period ;\n",
    "This is because the trial store performance lies outside the 5% to 95% confidence interval of the control store in two of the three trial months**\n",
    "____"
   ]
  },
  {
   "cell_type": "markdown",
   "metadata": {},
   "source": [
    "### Customers of Store-77"
   ]
  },
  {
   "cell_type": "code",
   "execution_count": 34,
   "metadata": {},
   "outputs": [],
   "source": [
    "columnName = 'TOTAL_CUSTOMERS'"
   ]
  },
  {
   "cell_type": "code",
   "execution_count": 35,
   "metadata": {},
   "outputs": [
    {
     "data": {
      "text/plain": [
       "1.0033557046979866"
      ]
     },
     "execution_count": 35,
     "metadata": {},
     "output_type": "execute_result"
    }
   ],
   "source": [
    "scalingFactor = calcScalingFactor(TrialStoreNo,ControlStoreNo,columnName)\n",
    "scalingFactor"
   ]
  },
  {
   "cell_type": "code",
   "execution_count": 36,
   "metadata": {},
   "outputs": [],
   "source": [
    "#Making data frames to be used later\n",
    "controlStoredata = allTimeData.loc[ControlStoreNo].copy()\n",
    "trialstoredata = allTimeData.loc[TrialStoreNo].copy()"
   ]
  },
  {
   "cell_type": "code",
   "execution_count": 37,
   "metadata": {},
   "outputs": [
    {
     "data": {
      "text/html": [
       "<div>\n",
       "<style scoped>\n",
       "    .dataframe tbody tr th:only-of-type {\n",
       "        vertical-align: middle;\n",
       "    }\n",
       "\n",
       "    .dataframe tbody tr th {\n",
       "        vertical-align: top;\n",
       "    }\n",
       "\n",
       "    .dataframe thead th {\n",
       "        text-align: right;\n",
       "    }\n",
       "</style>\n",
       "<table border=\"1\" class=\"dataframe\">\n",
       "  <thead>\n",
       "    <tr style=\"text-align: right;\">\n",
       "      <th></th>\n",
       "      <th>TOTAL_CUSTOMERS</th>\n",
       "    </tr>\n",
       "    <tr>\n",
       "      <th>MONTH_ID</th>\n",
       "      <th></th>\n",
       "    </tr>\n",
       "  </thead>\n",
       "  <tbody>\n",
       "    <tr>\n",
       "      <th>201807</th>\n",
       "      <td>51.171141</td>\n",
       "    </tr>\n",
       "    <tr>\n",
       "      <th>201808</th>\n",
       "      <td>48.161074</td>\n",
       "    </tr>\n",
       "    <tr>\n",
       "      <th>201809</th>\n",
       "      <td>42.140940</td>\n",
       "    </tr>\n",
       "    <tr>\n",
       "      <th>201810</th>\n",
       "      <td>35.117450</td>\n",
       "    </tr>\n",
       "    <tr>\n",
       "      <th>201811</th>\n",
       "      <td>40.134228</td>\n",
       "    </tr>\n",
       "  </tbody>\n",
       "</table>\n",
       "</div>"
      ],
      "text/plain": [
       "          TOTAL_CUSTOMERS\n",
       "MONTH_ID                 \n",
       "201807          51.171141\n",
       "201808          48.161074\n",
       "201809          42.140940\n",
       "201810          35.117450\n",
       "201811          40.134228"
      ]
     },
     "execution_count": 37,
     "metadata": {},
     "output_type": "execute_result"
    }
   ],
   "source": [
    "#After scaling\n",
    "scaleddata=controlStoredata[[columnName]]*scalingFactor\n",
    "scaleddata.head()"
   ]
  },
  {
   "cell_type": "code",
   "execution_count": 38,
   "metadata": {},
   "outputs": [
    {
     "data": {
      "text/html": [
       "<div>\n",
       "<style scoped>\n",
       "    .dataframe tbody tr th:only-of-type {\n",
       "        vertical-align: middle;\n",
       "    }\n",
       "\n",
       "    .dataframe tbody tr th {\n",
       "        vertical-align: top;\n",
       "    }\n",
       "\n",
       "    .dataframe thead th {\n",
       "        text-align: right;\n",
       "    }\n",
       "</style>\n",
       "<table border=\"1\" class=\"dataframe\">\n",
       "  <thead>\n",
       "    <tr style=\"text-align: right;\">\n",
       "      <th></th>\n",
       "      <th>TOTAL_CUSTOMERS</th>\n",
       "    </tr>\n",
       "    <tr>\n",
       "      <th>MONTH_ID</th>\n",
       "      <th></th>\n",
       "    </tr>\n",
       "  </thead>\n",
       "  <tbody>\n",
       "    <tr>\n",
       "      <th>201807</th>\n",
       "      <td>0.334448</td>\n",
       "    </tr>\n",
       "    <tr>\n",
       "      <th>201808</th>\n",
       "      <td>2.410814</td>\n",
       "    </tr>\n",
       "    <tr>\n",
       "      <th>201809</th>\n",
       "      <td>0.334448</td>\n",
       "    </tr>\n",
       "    <tr>\n",
       "      <th>201810</th>\n",
       "      <td>5.360726</td>\n",
       "    </tr>\n",
       "    <tr>\n",
       "      <th>201811</th>\n",
       "      <td>2.157191</td>\n",
       "    </tr>\n",
       "  </tbody>\n",
       "</table>\n",
       "</div>"
      ],
      "text/plain": [
       "          TOTAL_CUSTOMERS\n",
       "MONTH_ID                 \n",
       "201807           0.334448\n",
       "201808           2.410814\n",
       "201809           0.334448\n",
       "201810           5.360726\n",
       "201811           2.157191"
      ]
     },
     "execution_count": 38,
     "metadata": {},
     "output_type": "execute_result"
    }
   ],
   "source": [
    "percentDiff_Sales = abs(scaleddata[[columnName]]-trialstoredata[[columnName]])*100/scaleddata[[columnName]]\n",
    "percentDiff_Sales.head()"
   ]
  },
  {
   "cell_type": "code",
   "execution_count": 39,
   "metadata": {},
   "outputs": [
    {
     "name": "stdout",
     "output_type": "stream",
     "text": [
      "Mean of scaled control store = 38.46\n",
      "Mean of Trial store = 47.33\n",
      "Standard deviation of data = 1.8241\n"
     ]
    }
   ],
   "source": [
    "#Finding means and std. deviation\n",
    "meanControl = scaleddata.loc[201902:201904].copy()\n",
    "m_Cont = meanControl[columnName].mean()\n",
    "m_Cont = round(m_Cont,2)\n",
    "\n",
    "meanTrial = trialstoredata.loc[201902:201904].copy()\n",
    "m_Trial = meanTrial[columnName].mean()\n",
    "m_Trial = round(m_Trial,2)\n",
    "\n",
    "stdDev = (percentDiff_Sales.loc[:201901]).std()\n",
    "stdDev = stdDev[columnName]\n",
    "stdDev = round(stdDev,4)\n",
    "\n",
    "print(\"Mean of scaled control store = {}\".format(m_Cont))\n",
    "print(\"Mean of Trial store = {}\".format(m_Trial))\n",
    "print(\"Standard deviation of data = {}\".format(stdDev))"
   ]
  },
  {
   "cell_type": "code",
   "execution_count": 40,
   "metadata": {},
   "outputs": [
    {
     "name": "stdout",
     "output_type": "stream",
     "text": [
      "t-statistic = 4.8627\n",
      "t-critical = 1.8946\n"
     ]
    }
   ],
   "source": [
    "# Performing t-test for alpha=0.05\n",
    "from scipy.stats import t\n",
    "#Calculating t-statistic\n",
    "t_stat = abs(m_Cont-m_Trial)/stdDev\n",
    "t_stat = round(t_stat,4)\n",
    "#Calculating critical t-value\n",
    "alpha=0.05\n",
    "degree = 8-1\n",
    "cv_t = t.ppf(1-alpha, degree)\n",
    "cv_t = round(cv_t,4)\n",
    "print(\"t-statistic = {}\".format(t_stat))\n",
    "print(\"t-critical = {}\".format(cv_t))"
   ]
  },
  {
   "cell_type": "code",
   "execution_count": 41,
   "metadata": {},
   "outputs": [
    {
     "data": {
      "text/html": [
       "<div>\n",
       "<style scoped>\n",
       "    .dataframe tbody tr th:only-of-type {\n",
       "        vertical-align: middle;\n",
       "    }\n",
       "\n",
       "    .dataframe tbody tr th {\n",
       "        vertical-align: top;\n",
       "    }\n",
       "\n",
       "    .dataframe thead th {\n",
       "        text-align: right;\n",
       "    }\n",
       "</style>\n",
       "<table border=\"1\" class=\"dataframe\">\n",
       "  <thead>\n",
       "    <tr style=\"text-align: right;\">\n",
       "      <th></th>\n",
       "      <th>Transaction_Month</th>\n",
       "      <th>Total_Customers</th>\n",
       "      <th>Store_Type</th>\n",
       "    </tr>\n",
       "  </thead>\n",
       "  <tbody>\n",
       "    <tr>\n",
       "      <th>0</th>\n",
       "      <td>201807</td>\n",
       "      <td>51</td>\n",
       "      <td>Control_Store</td>\n",
       "    </tr>\n",
       "    <tr>\n",
       "      <th>1</th>\n",
       "      <td>201808</td>\n",
       "      <td>48</td>\n",
       "      <td>Control_Store</td>\n",
       "    </tr>\n",
       "    <tr>\n",
       "      <th>2</th>\n",
       "      <td>201809</td>\n",
       "      <td>42</td>\n",
       "      <td>Control_Store</td>\n",
       "    </tr>\n",
       "    <tr>\n",
       "      <th>3</th>\n",
       "      <td>201810</td>\n",
       "      <td>35</td>\n",
       "      <td>Control_Store</td>\n",
       "    </tr>\n",
       "    <tr>\n",
       "      <th>4</th>\n",
       "      <td>201811</td>\n",
       "      <td>40</td>\n",
       "      <td>Control_Store</td>\n",
       "    </tr>\n",
       "  </tbody>\n",
       "</table>\n",
       "</div>"
      ],
      "text/plain": [
       "   Transaction_Month  Total_Customers     Store_Type\n",
       "0             201807               51  Control_Store\n",
       "1             201808               48  Control_Store\n",
       "2             201809               42  Control_Store\n",
       "3             201810               35  Control_Store\n",
       "4             201811               40  Control_Store"
      ]
     },
     "execution_count": 41,
     "metadata": {},
     "output_type": "execute_result"
    }
   ],
   "source": [
    "# To visualize data\n",
    "newName = \"Total_Customers\"\n",
    "# Data of CONTROL STORE\n",
    "tmp_Controldf = controlStoredata.reset_index()\n",
    "tmp_Controldf = tmp_Controldf[['MONTH_ID',columnName]]\n",
    "tmp_Controldf['Store_Type']=\"Control_Store\"\n",
    "tmp_Controldf.rename(columns={'MONTH_ID':\"Transaction_Month\",columnName:newName},inplace=True)\n",
    "tmp_Controldf.head()"
   ]
  },
  {
   "cell_type": "code",
   "execution_count": 42,
   "metadata": {},
   "outputs": [
    {
     "data": {
      "text/html": [
       "<div>\n",
       "<style scoped>\n",
       "    .dataframe tbody tr th:only-of-type {\n",
       "        vertical-align: middle;\n",
       "    }\n",
       "\n",
       "    .dataframe tbody tr th {\n",
       "        vertical-align: top;\n",
       "    }\n",
       "\n",
       "    .dataframe thead th {\n",
       "        text-align: right;\n",
       "    }\n",
       "</style>\n",
       "<table border=\"1\" class=\"dataframe\">\n",
       "  <thead>\n",
       "    <tr style=\"text-align: right;\">\n",
       "      <th></th>\n",
       "      <th>Transaction_Month</th>\n",
       "      <th>Total_Customers</th>\n",
       "      <th>Store_Type</th>\n",
       "    </tr>\n",
       "  </thead>\n",
       "  <tbody>\n",
       "    <tr>\n",
       "      <th>0</th>\n",
       "      <td>201807</td>\n",
       "      <td>51</td>\n",
       "      <td>Trial_Store</td>\n",
       "    </tr>\n",
       "    <tr>\n",
       "      <th>1</th>\n",
       "      <td>201808</td>\n",
       "      <td>47</td>\n",
       "      <td>Trial_Store</td>\n",
       "    </tr>\n",
       "    <tr>\n",
       "      <th>2</th>\n",
       "      <td>201809</td>\n",
       "      <td>42</td>\n",
       "      <td>Trial_Store</td>\n",
       "    </tr>\n",
       "    <tr>\n",
       "      <th>3</th>\n",
       "      <td>201810</td>\n",
       "      <td>37</td>\n",
       "      <td>Trial_Store</td>\n",
       "    </tr>\n",
       "    <tr>\n",
       "      <th>4</th>\n",
       "      <td>201811</td>\n",
       "      <td>41</td>\n",
       "      <td>Trial_Store</td>\n",
       "    </tr>\n",
       "  </tbody>\n",
       "</table>\n",
       "</div>"
      ],
      "text/plain": [
       "   Transaction_Month  Total_Customers   Store_Type\n",
       "0             201807               51  Trial_Store\n",
       "1             201808               47  Trial_Store\n",
       "2             201809               42  Trial_Store\n",
       "3             201810               37  Trial_Store\n",
       "4             201811               41  Trial_Store"
      ]
     },
     "execution_count": 42,
     "metadata": {},
     "output_type": "execute_result"
    }
   ],
   "source": [
    "# Data of TRIAL STORE\n",
    "tmp_Trialdf = trialstoredata.reset_index()\n",
    "tmp_Trialdf = tmp_Trialdf[['MONTH_ID',columnName]]\n",
    "tmp_Trialdf['Store_Type']=\"Trial_Store\"\n",
    "tmp_Trialdf.rename(columns={'MONTH_ID':\"Transaction_Month\",columnName:newName},inplace=True)\n",
    "tmp_Trialdf.head()"
   ]
  },
  {
   "cell_type": "code",
   "execution_count": 43,
   "metadata": {},
   "outputs": [
    {
     "data": {
      "text/html": [
       "<div>\n",
       "<style scoped>\n",
       "    .dataframe tbody tr th:only-of-type {\n",
       "        vertical-align: middle;\n",
       "    }\n",
       "\n",
       "    .dataframe tbody tr th {\n",
       "        vertical-align: top;\n",
       "    }\n",
       "\n",
       "    .dataframe thead th {\n",
       "        text-align: right;\n",
       "    }\n",
       "</style>\n",
       "<table border=\"1\" class=\"dataframe\">\n",
       "  <thead>\n",
       "    <tr style=\"text-align: right;\">\n",
       "      <th></th>\n",
       "      <th>Transaction_Month</th>\n",
       "      <th>Total_Customers</th>\n",
       "      <th>Store_Type</th>\n",
       "    </tr>\n",
       "  </thead>\n",
       "  <tbody>\n",
       "    <tr>\n",
       "      <th>0</th>\n",
       "      <td>201807</td>\n",
       "      <td>47.3518</td>\n",
       "      <td>Control 5 % Confidence</td>\n",
       "    </tr>\n",
       "    <tr>\n",
       "      <th>1</th>\n",
       "      <td>201808</td>\n",
       "      <td>44.3518</td>\n",
       "      <td>Control 5 % Confidence</td>\n",
       "    </tr>\n",
       "    <tr>\n",
       "      <th>2</th>\n",
       "      <td>201809</td>\n",
       "      <td>38.3518</td>\n",
       "      <td>Control 5 % Confidence</td>\n",
       "    </tr>\n",
       "    <tr>\n",
       "      <th>3</th>\n",
       "      <td>201810</td>\n",
       "      <td>31.3518</td>\n",
       "      <td>Control 5 % Confidence</td>\n",
       "    </tr>\n",
       "    <tr>\n",
       "      <th>4</th>\n",
       "      <td>201811</td>\n",
       "      <td>36.3518</td>\n",
       "      <td>Control 5 % Confidence</td>\n",
       "    </tr>\n",
       "  </tbody>\n",
       "</table>\n",
       "</div>"
      ],
      "text/plain": [
       "   Transaction_Month  Total_Customers              Store_Type\n",
       "0             201807          47.3518  Control 5 % Confidence\n",
       "1             201808          44.3518  Control 5 % Confidence\n",
       "2             201809          38.3518  Control 5 % Confidence\n",
       "3             201810          31.3518  Control 5 % Confidence\n",
       "4             201811          36.3518  Control 5 % Confidence"
      ]
     },
     "execution_count": 43,
     "metadata": {},
     "output_type": "execute_result"
    }
   ],
   "source": [
    "# Data of CONTROL store with 5% confidence\n",
    "pastSales_Control05 = tmp_Controldf.copy()\n",
    "pastSales_Control05[newName] = pastSales_Control05[newName]  - (stdDev*2)\n",
    "pastSales_Control05['Store_Type'] = \"Control 5 % Confidence\"\n",
    "pastSales_Control05.head()"
   ]
  },
  {
   "cell_type": "code",
   "execution_count": 44,
   "metadata": {},
   "outputs": [
    {
     "data": {
      "text/html": [
       "<div>\n",
       "<style scoped>\n",
       "    .dataframe tbody tr th:only-of-type {\n",
       "        vertical-align: middle;\n",
       "    }\n",
       "\n",
       "    .dataframe tbody tr th {\n",
       "        vertical-align: top;\n",
       "    }\n",
       "\n",
       "    .dataframe thead th {\n",
       "        text-align: right;\n",
       "    }\n",
       "</style>\n",
       "<table border=\"1\" class=\"dataframe\">\n",
       "  <thead>\n",
       "    <tr style=\"text-align: right;\">\n",
       "      <th></th>\n",
       "      <th>Transaction_Month</th>\n",
       "      <th>Total_Customers</th>\n",
       "      <th>Store_Type</th>\n",
       "    </tr>\n",
       "  </thead>\n",
       "  <tbody>\n",
       "    <tr>\n",
       "      <th>0</th>\n",
       "      <td>201807</td>\n",
       "      <td>54.6482</td>\n",
       "      <td>Control 95 % Confidence</td>\n",
       "    </tr>\n",
       "    <tr>\n",
       "      <th>1</th>\n",
       "      <td>201808</td>\n",
       "      <td>51.6482</td>\n",
       "      <td>Control 95 % Confidence</td>\n",
       "    </tr>\n",
       "    <tr>\n",
       "      <th>2</th>\n",
       "      <td>201809</td>\n",
       "      <td>45.6482</td>\n",
       "      <td>Control 95 % Confidence</td>\n",
       "    </tr>\n",
       "    <tr>\n",
       "      <th>3</th>\n",
       "      <td>201810</td>\n",
       "      <td>38.6482</td>\n",
       "      <td>Control 95 % Confidence</td>\n",
       "    </tr>\n",
       "    <tr>\n",
       "      <th>4</th>\n",
       "      <td>201811</td>\n",
       "      <td>43.6482</td>\n",
       "      <td>Control 95 % Confidence</td>\n",
       "    </tr>\n",
       "  </tbody>\n",
       "</table>\n",
       "</div>"
      ],
      "text/plain": [
       "   Transaction_Month  Total_Customers               Store_Type\n",
       "0             201807          54.6482  Control 95 % Confidence\n",
       "1             201808          51.6482  Control 95 % Confidence\n",
       "2             201809          45.6482  Control 95 % Confidence\n",
       "3             201810          38.6482  Control 95 % Confidence\n",
       "4             201811          43.6482  Control 95 % Confidence"
      ]
     },
     "execution_count": 44,
     "metadata": {},
     "output_type": "execute_result"
    }
   ],
   "source": [
    "# Data of CONTROL store with 95% confidence\n",
    "pastSales_Control95 = tmp_Controldf.copy()\n",
    "pastSales_Control95[newName] = pastSales_Control95[newName]  + (stdDev*2)\n",
    "pastSales_Control95['Store_Type'] = \"Control 95 % Confidence\"\n",
    "pastSales_Control95.head()"
   ]
  },
  {
   "cell_type": "code",
   "execution_count": 45,
   "metadata": {},
   "outputs": [
    {
     "name": "stdout",
     "output_type": "stream",
     "text": [
      "<class 'pandas.core.frame.DataFrame'>\n",
      "RangeIndex: 48 entries, 0 to 47\n",
      "Data columns (total 3 columns):\n",
      " #   Column             Non-Null Count  Dtype  \n",
      "---  ------             --------------  -----  \n",
      " 0   Store_Type         48 non-null     object \n",
      " 1   Total_Customers    48 non-null     float64\n",
      " 2   Transaction_Month  48 non-null     object \n",
      "dtypes: float64(1), object(2)\n",
      "memory usage: 1.2+ KB\n"
     ]
    }
   ],
   "source": [
    "# Merging all data into one dataframe\n",
    "pastSales = pd.DataFrame(columns=['Store_Type',newName,'Transaction_Month'])\n",
    "pastSales = pd.concat([pastSales,pastSales_Control05,tmp_Trialdf,tmp_Controldf,pastSales_Control95])\n",
    "pastSales.reset_index(inplace = True)\n",
    "pastSales.drop('index',axis=1,inplace=True)\n",
    "pastSales.info()"
   ]
  },
  {
   "cell_type": "code",
   "execution_count": 46,
   "metadata": {},
   "outputs": [
    {
     "data": {
      "text/html": [
       "<div>\n",
       "<style scoped>\n",
       "    .dataframe tbody tr th:only-of-type {\n",
       "        vertical-align: middle;\n",
       "    }\n",
       "\n",
       "    .dataframe tbody tr th {\n",
       "        vertical-align: top;\n",
       "    }\n",
       "\n",
       "    .dataframe thead th {\n",
       "        text-align: right;\n",
       "    }\n",
       "</style>\n",
       "<table border=\"1\" class=\"dataframe\">\n",
       "  <thead>\n",
       "    <tr style=\"text-align: right;\">\n",
       "      <th></th>\n",
       "      <th>Store_Type</th>\n",
       "      <th>Total_Customers</th>\n",
       "      <th>Transaction_Month</th>\n",
       "    </tr>\n",
       "  </thead>\n",
       "  <tbody>\n",
       "    <tr>\n",
       "      <th>7</th>\n",
       "      <td>Control 5 % Confidence</td>\n",
       "      <td>41.3518</td>\n",
       "      <td>201902</td>\n",
       "    </tr>\n",
       "    <tr>\n",
       "      <th>8</th>\n",
       "      <td>Control 5 % Confidence</td>\n",
       "      <td>36.3518</td>\n",
       "      <td>201903</td>\n",
       "    </tr>\n",
       "    <tr>\n",
       "      <th>9</th>\n",
       "      <td>Control 5 % Confidence</td>\n",
       "      <td>26.3518</td>\n",
       "      <td>201904</td>\n",
       "    </tr>\n",
       "    <tr>\n",
       "      <th>19</th>\n",
       "      <td>Trial_Store</td>\n",
       "      <td>45.0000</td>\n",
       "      <td>201902</td>\n",
       "    </tr>\n",
       "    <tr>\n",
       "      <th>20</th>\n",
       "      <td>Trial_Store</td>\n",
       "      <td>50.0000</td>\n",
       "      <td>201903</td>\n",
       "    </tr>\n",
       "    <tr>\n",
       "      <th>21</th>\n",
       "      <td>Trial_Store</td>\n",
       "      <td>47.0000</td>\n",
       "      <td>201904</td>\n",
       "    </tr>\n",
       "    <tr>\n",
       "      <th>31</th>\n",
       "      <td>Control_Store</td>\n",
       "      <td>45.0000</td>\n",
       "      <td>201902</td>\n",
       "    </tr>\n",
       "    <tr>\n",
       "      <th>32</th>\n",
       "      <td>Control_Store</td>\n",
       "      <td>40.0000</td>\n",
       "      <td>201903</td>\n",
       "    </tr>\n",
       "    <tr>\n",
       "      <th>33</th>\n",
       "      <td>Control_Store</td>\n",
       "      <td>30.0000</td>\n",
       "      <td>201904</td>\n",
       "    </tr>\n",
       "    <tr>\n",
       "      <th>43</th>\n",
       "      <td>Control 95 % Confidence</td>\n",
       "      <td>48.6482</td>\n",
       "      <td>201902</td>\n",
       "    </tr>\n",
       "    <tr>\n",
       "      <th>44</th>\n",
       "      <td>Control 95 % Confidence</td>\n",
       "      <td>43.6482</td>\n",
       "      <td>201903</td>\n",
       "    </tr>\n",
       "    <tr>\n",
       "      <th>45</th>\n",
       "      <td>Control 95 % Confidence</td>\n",
       "      <td>33.6482</td>\n",
       "      <td>201904</td>\n",
       "    </tr>\n",
       "  </tbody>\n",
       "</table>\n",
       "</div>"
      ],
      "text/plain": [
       "                 Store_Type  Total_Customers Transaction_Month\n",
       "7    Control 5 % Confidence          41.3518            201902\n",
       "8    Control 5 % Confidence          36.3518            201903\n",
       "9    Control 5 % Confidence          26.3518            201904\n",
       "19              Trial_Store          45.0000            201902\n",
       "20              Trial_Store          50.0000            201903\n",
       "21              Trial_Store          47.0000            201904\n",
       "31            Control_Store          45.0000            201902\n",
       "32            Control_Store          40.0000            201903\n",
       "33            Control_Store          30.0000            201904\n",
       "43  Control 95 % Confidence          48.6482            201902\n",
       "44  Control 95 % Confidence          43.6482            201903\n",
       "45  Control 95 % Confidence          33.6482            201904"
      ]
     },
     "execution_count": 46,
     "metadata": {},
     "output_type": "execute_result"
    }
   ],
   "source": [
    "trialPeriodSales = pastSales[(pastSales['Transaction_Month']<201905) & (pastSales['Transaction_Month']>201901)]\n",
    "trialPeriodSales"
   ]
  },
  {
   "cell_type": "code",
   "execution_count": 47,
   "metadata": {},
   "outputs": [],
   "source": [
    "#Deleting temporary dataframes\n",
    "del pastSales_Control05\n",
    "del pastSales_Control95\n",
    "del tmp_Controldf\n",
    "del tmp_Trialdf"
   ]
  },
  {
   "cell_type": "code",
   "execution_count": 48,
   "metadata": {},
   "outputs": [
    {
     "data": {
      "text/plain": [
       "<matplotlib.legend.Legend at 0x29234dcc1d0>"
      ]
     },
     "execution_count": 48,
     "metadata": {},
     "output_type": "execute_result"
    },
    {
     "data": {
      "image/png": "[encoded data removed]",
      "text/plain": [
       "<Figure size 800x300 with 1 Axes>"
      ]
     },
     "metadata": {
      "needs_background": "light"
     },
     "output_type": "display_data"
    }
   ],
   "source": [
    "fig =plt.figure(figsize=(8,3),dpi=100)\n",
    "ax = fig.add_axes([0,0,1,1])\n",
    "sns.barplot(y=newName,x='Transaction_Month',hue='Store_Type',data=trialPeriodSales)\n",
    "plt.legend(loc='center left', bbox_to_anchor=(1.0, 0.5))"
   ]
  },
  {
   "cell_type": "markdown",
   "metadata": {},
   "source": [
    "#### The above graph shows that the trial in store 77 is significantly different to its control store in the trial period ; This is because the trial store performance lies outside the 5% to 95% confidence interval of the control store in two of the three trial months\n",
    "___"
   ]
  },
  {
   "cell_type": "markdown",
   "metadata": {},
   "source": [
    "## Store-86 : Performance Analysis"
   ]
  },
  {
   "cell_type": "code",
   "execution_count": 49,
   "metadata": {},
   "outputs": [
    {
     "name": "stdout",
     "output_type": "stream",
     "text": [
      "Control store for Store 86 is Store 155\n"
     ]
    }
   ],
   "source": [
    "store86 = calcTotalScore(corrSt_86,magnDist86)\n",
    "print(\"Control store for Store 86 is Store {}\".format(store86))"
   ]
  },
  {
   "cell_type": "code",
   "execution_count": 50,
   "metadata": {},
   "outputs": [],
   "source": [
    "#Changing the value of variables\n",
    "TrialStoreNo = 86\n",
    "ControlStoreNo = store86"
   ]
  },
  {
   "cell_type": "code",
   "execution_count": 51,
   "metadata": {},
   "outputs": [],
   "source": [
    "control_Sales = fetchVal(ControlStoreNo,'TOT_SALES')\n",
    "control_Cust = fetchVal(ControlStoreNo ,'TOTAL_CUSTOMERS')\n",
    "trial_Sales = fetchVal(TrialStoreNo,'TOT_SALES')\n",
    "trial_Cust = fetchVal(TrialStoreNo,'TOTAL_CUSTOMERS')\n",
    "\n",
    "#Creating new dataframe 'compartable'\n",
    "comparTable = pd.DataFrame(index=['TOT_SALES','TOT_CUSTOMER'],columns=['TRIAL_ST','CONTROL_ST'])\n",
    "comparTable['TRIAL_ST']['TOT_SALES'] = trial_Sales\n",
    "comparTable['TRIAL_ST']['TOT_CUSTOMER'] = trial_Cust\n",
    "comparTable['CONTROL_ST']['TOT_SALES'] = control_Sales\n",
    "comparTable['CONTROL_ST']['TOT_CUSTOMER'] = control_Cust\n",
    "comparTable=comparTable.transpose()"
   ]
  },
  {
   "cell_type": "code",
   "execution_count": 52,
   "metadata": {},
   "outputs": [
    {
     "data": {
      "image/png": "[encoded data removed]",
      "text/plain": [
       "<Figure size 900x250 with 2 Axes>"
      ]
     },
     "metadata": {
      "needs_background": "light"
     },
     "output_type": "display_data"
    }
   ],
   "source": [
    "#Comparing data of trial store and control store\n",
    "x=comparTable\n",
    "fig =plt.figure(figsize=(9,2.5),dpi=100)\n",
    "ax = fig.add_axes([0,0,1,1])\n",
    "plt.subplot(1,2,1)\n",
    "plt.title(\"Total Sales comparison\")\n",
    "sns.barplot(x=x.index,y='TOT_SALES',data=x)\n",
    "plt.subplot(1,2,2)\n",
    "plt.title(\"Total Customers comparison\")\n",
    "sns.barplot(x=x.index,y='TOT_CUSTOMER',data=x)\n",
    "plt.tight_layout()"
   ]
  },
  {
   "cell_type": "markdown",
   "metadata": {},
   "source": [
    "___\n",
    "### Sales of Store-86"
   ]
  },
  {
   "cell_type": "code",
   "execution_count": 53,
   "metadata": {},
   "outputs": [],
   "source": [
    "columnName = 'TOT_SALES'"
   ]
  },
  {
   "cell_type": "code",
   "execution_count": 54,
   "metadata": {},
   "outputs": [
    {
     "data": {
      "text/plain": [
       "0.9700651481287746"
      ]
     },
     "execution_count": 54,
     "metadata": {},
     "output_type": "execute_result"
    }
   ],
   "source": [
    "scalingFactor = calcScalingFactor(TrialStoreNo,ControlStoreNo,columnName)\n",
    "scalingFactor"
   ]
  },
  {
   "cell_type": "code",
   "execution_count": 55,
   "metadata": {},
   "outputs": [],
   "source": [
    "controlStoredata = allTimeData.loc[ControlStoreNo].copy()\n",
    "trialstoredata = allTimeData.loc[TrialStoreNo].copy()"
   ]
  },
  {
   "cell_type": "code",
   "execution_count": 56,
   "metadata": {},
   "outputs": [
    {
     "data": {
      "text/html": [
       "<div>\n",
       "<style scoped>\n",
       "    .dataframe tbody tr th:only-of-type {\n",
       "        vertical-align: middle;\n",
       "    }\n",
       "\n",
       "    .dataframe tbody tr th {\n",
       "        vertical-align: top;\n",
       "    }\n",
       "\n",
       "    .dataframe thead th {\n",
       "        text-align: right;\n",
       "    }\n",
       "</style>\n",
       "<table border=\"1\" class=\"dataframe\">\n",
       "  <thead>\n",
       "    <tr style=\"text-align: right;\">\n",
       "      <th></th>\n",
       "      <th>TOT_SALES</th>\n",
       "    </tr>\n",
       "    <tr>\n",
       "      <th>MONTH_ID</th>\n",
       "      <th></th>\n",
       "    </tr>\n",
       "  </thead>\n",
       "  <tbody>\n",
       "    <tr>\n",
       "      <th>201807</th>\n",
       "      <td>896.922236</td>\n",
       "    </tr>\n",
       "    <tr>\n",
       "      <th>201808</th>\n",
       "      <td>759.269991</td>\n",
       "    </tr>\n",
       "    <tr>\n",
       "      <th>201809</th>\n",
       "      <td>984.034086</td>\n",
       "    </tr>\n",
       "    <tr>\n",
       "      <th>201810</th>\n",
       "      <td>934.948790</td>\n",
       "    </tr>\n",
       "    <tr>\n",
       "      <th>201811</th>\n",
       "      <td>871.894555</td>\n",
       "    </tr>\n",
       "  </tbody>\n",
       "</table>\n",
       "</div>"
      ],
      "text/plain": [
       "           TOT_SALES\n",
       "MONTH_ID            \n",
       "201807    896.922236\n",
       "201808    759.269991\n",
       "201809    984.034086\n",
       "201810    934.948790\n",
       "201811    871.894555"
      ]
     },
     "execution_count": 56,
     "metadata": {},
     "output_type": "execute_result"
    }
   ],
   "source": [
    "#After scaling\n",
    "scaleddata=controlStoredata[[columnName]]*scalingFactor\n",
    "scaleddata.head()"
   ]
  },
  {
   "cell_type": "code",
   "execution_count": 57,
   "metadata": {},
   "outputs": [
    {
     "data": {
      "text/html": [
       "<div>\n",
       "<style scoped>\n",
       "    .dataframe tbody tr th:only-of-type {\n",
       "        vertical-align: middle;\n",
       "    }\n",
       "\n",
       "    .dataframe tbody tr th {\n",
       "        vertical-align: top;\n",
       "    }\n",
       "\n",
       "    .dataframe thead th {\n",
       "        text-align: right;\n",
       "    }\n",
       "</style>\n",
       "<table border=\"1\" class=\"dataframe\">\n",
       "  <thead>\n",
       "    <tr style=\"text-align: right;\">\n",
       "      <th></th>\n",
       "      <th>TOT_SALES</th>\n",
       "    </tr>\n",
       "    <tr>\n",
       "      <th>MONTH_ID</th>\n",
       "      <th></th>\n",
       "    </tr>\n",
       "  </thead>\n",
       "  <tbody>\n",
       "    <tr>\n",
       "      <th>201807</th>\n",
       "      <td>0.526493</td>\n",
       "    </tr>\n",
       "    <tr>\n",
       "      <th>201808</th>\n",
       "      <td>0.629553</td>\n",
       "    </tr>\n",
       "    <tr>\n",
       "      <th>201809</th>\n",
       "      <td>7.056065</td>\n",
       "    </tr>\n",
       "    <tr>\n",
       "      <th>201810</th>\n",
       "      <td>1.438711</td>\n",
       "    </tr>\n",
       "    <tr>\n",
       "      <th>201811</th>\n",
       "      <td>5.287961</td>\n",
       "    </tr>\n",
       "  </tbody>\n",
       "</table>\n",
       "</div>"
      ],
      "text/plain": [
       "          TOT_SALES\n",
       "MONTH_ID           \n",
       "201807     0.526493\n",
       "201808     0.629553\n",
       "201809     7.056065\n",
       "201810     1.438711\n",
       "201811     5.287961"
      ]
     },
     "execution_count": 57,
     "metadata": {},
     "output_type": "execute_result"
    }
   ],
   "source": [
    "percentDiff_Sales = abs(scaleddata[[columnName]]-trialstoredata[[columnName]])*100/scaleddata[[columnName]]\n",
    "percentDiff_Sales.head()"
   ]
  },
  {
   "cell_type": "code",
   "execution_count": 58,
   "metadata": {},
   "outputs": [
    {
     "name": "stdout",
     "output_type": "stream",
     "text": [
      "Mean of scaled control store = 821.39\n",
      "Mean of Trial store = 929.4\n",
      "Standard deviation of data = 2.5834\n"
     ]
    }
   ],
   "source": [
    "#Finding means and std. deviation\n",
    "meanControl = scaleddata.loc[201902:201904].copy()\n",
    "m_Cont = meanControl[columnName].mean()\n",
    "m_Cont = round(m_Cont,2)\n",
    "\n",
    "meanTrial = trialstoredata.loc[201902:201904].copy()\n",
    "m_Trial = meanTrial[columnName].mean()\n",
    "m_Trial = round(m_Trial,2)\n",
    "\n",
    "stdDev = (percentDiff_Sales.loc[:201901]).std()\n",
    "stdDev = stdDev[columnName]\n",
    "stdDev = round(stdDev,4)\n",
    "\n",
    "print(\"Mean of scaled control store = {}\".format(m_Cont))\n",
    "print(\"Mean of Trial store = {}\".format(m_Trial))\n",
    "print(\"Standard deviation of data = {}\".format(stdDev))"
   ]
  },
  {
   "cell_type": "code",
   "execution_count": 59,
   "metadata": {},
   "outputs": [
    {
     "name": "stdout",
     "output_type": "stream",
     "text": [
      "t-statistic = 41.8092\n",
      "t-critical = 1.8946\n"
     ]
    }
   ],
   "source": [
    "# Performing t-test for alpha=0.05\n",
    "from scipy.stats import t\n",
    "#Calculating t-statistic\n",
    "t_stat = abs(m_Cont-m_Trial)/stdDev\n",
    "t_stat = round(t_stat,4)\n",
    "#Calculating critical t-value\n",
    "alpha=0.05\n",
    "degree = 8-1\n",
    "cv_t = t.ppf(1-alpha, degree)\n",
    "cv_t = round(cv_t,4)\n",
    "print(\"t-statistic = {}\".format(t_stat))\n",
    "print(\"t-critical = {}\".format(cv_t))"
   ]
  },
  {
   "cell_type": "code",
   "execution_count": 60,
   "metadata": {},
   "outputs": [
    {
     "data": {
      "text/html": [
       "<div>\n",
       "<style scoped>\n",
       "    .dataframe tbody tr th:only-of-type {\n",
       "        vertical-align: middle;\n",
       "    }\n",
       "\n",
       "    .dataframe tbody tr th {\n",
       "        vertical-align: top;\n",
       "    }\n",
       "\n",
       "    .dataframe thead th {\n",
       "        text-align: right;\n",
       "    }\n",
       "</style>\n",
       "<table border=\"1\" class=\"dataframe\">\n",
       "  <thead>\n",
       "    <tr style=\"text-align: right;\">\n",
       "      <th></th>\n",
       "      <th>Transaction_Month</th>\n",
       "      <th>Total_Sales</th>\n",
       "      <th>Store_Type</th>\n",
       "    </tr>\n",
       "  </thead>\n",
       "  <tbody>\n",
       "    <tr>\n",
       "      <th>0</th>\n",
       "      <td>201807</td>\n",
       "      <td>924.6</td>\n",
       "      <td>Control_Store</td>\n",
       "    </tr>\n",
       "    <tr>\n",
       "      <th>1</th>\n",
       "      <td>201808</td>\n",
       "      <td>782.7</td>\n",
       "      <td>Control_Store</td>\n",
       "    </tr>\n",
       "    <tr>\n",
       "      <th>2</th>\n",
       "      <td>201809</td>\n",
       "      <td>1014.4</td>\n",
       "      <td>Control_Store</td>\n",
       "    </tr>\n",
       "    <tr>\n",
       "      <th>3</th>\n",
       "      <td>201810</td>\n",
       "      <td>963.8</td>\n",
       "      <td>Control_Store</td>\n",
       "    </tr>\n",
       "    <tr>\n",
       "      <th>4</th>\n",
       "      <td>201811</td>\n",
       "      <td>898.8</td>\n",
       "      <td>Control_Store</td>\n",
       "    </tr>\n",
       "  </tbody>\n",
       "</table>\n",
       "</div>"
      ],
      "text/plain": [
       "   Transaction_Month  Total_Sales     Store_Type\n",
       "0             201807        924.6  Control_Store\n",
       "1             201808        782.7  Control_Store\n",
       "2             201809       1014.4  Control_Store\n",
       "3             201810        963.8  Control_Store\n",
       "4             201811        898.8  Control_Store"
      ]
     },
     "execution_count": 60,
     "metadata": {},
     "output_type": "execute_result"
    }
   ],
   "source": [
    "newName = \"Total_Sales\"\n",
    "# Data of CONTROL STORE\n",
    "tmp_Controldf = controlStoredata.reset_index()\n",
    "tmp_Controldf = tmp_Controldf[['MONTH_ID',columnName]]\n",
    "tmp_Controldf['Store_Type']=\"Control_Store\"\n",
    "tmp_Controldf.rename(columns={'MONTH_ID':\"Transaction_Month\",columnName:newName},inplace=True)\n",
    "tmp_Controldf.head()"
   ]
  },
  {
   "cell_type": "code",
   "execution_count": 61,
   "metadata": {},
   "outputs": [
    {
     "data": {
      "text/html": [
       "<div>\n",
       "<style scoped>\n",
       "    .dataframe tbody tr th:only-of-type {\n",
       "        vertical-align: middle;\n",
       "    }\n",
       "\n",
       "    .dataframe tbody tr th {\n",
       "        vertical-align: top;\n",
       "    }\n",
       "\n",
       "    .dataframe thead th {\n",
       "        text-align: right;\n",
       "    }\n",
       "</style>\n",
       "<table border=\"1\" class=\"dataframe\">\n",
       "  <thead>\n",
       "    <tr style=\"text-align: right;\">\n",
       "      <th></th>\n",
       "      <th>Transaction_Month</th>\n",
       "      <th>Total_Sales</th>\n",
       "      <th>Store_Type</th>\n",
       "    </tr>\n",
       "  </thead>\n",
       "  <tbody>\n",
       "    <tr>\n",
       "      <th>0</th>\n",
       "      <td>201807</td>\n",
       "      <td>892.20</td>\n",
       "      <td>Trial_Store</td>\n",
       "    </tr>\n",
       "    <tr>\n",
       "      <th>1</th>\n",
       "      <td>201808</td>\n",
       "      <td>764.05</td>\n",
       "      <td>Trial_Store</td>\n",
       "    </tr>\n",
       "    <tr>\n",
       "      <th>2</th>\n",
       "      <td>201809</td>\n",
       "      <td>914.60</td>\n",
       "      <td>Trial_Store</td>\n",
       "    </tr>\n",
       "    <tr>\n",
       "      <th>3</th>\n",
       "      <td>201810</td>\n",
       "      <td>948.40</td>\n",
       "      <td>Trial_Store</td>\n",
       "    </tr>\n",
       "    <tr>\n",
       "      <th>4</th>\n",
       "      <td>201811</td>\n",
       "      <td>918.00</td>\n",
       "      <td>Trial_Store</td>\n",
       "    </tr>\n",
       "  </tbody>\n",
       "</table>\n",
       "</div>"
      ],
      "text/plain": [
       "   Transaction_Month  Total_Sales   Store_Type\n",
       "0             201807       892.20  Trial_Store\n",
       "1             201808       764.05  Trial_Store\n",
       "2             201809       914.60  Trial_Store\n",
       "3             201810       948.40  Trial_Store\n",
       "4             201811       918.00  Trial_Store"
      ]
     },
     "execution_count": 61,
     "metadata": {},
     "output_type": "execute_result"
    }
   ],
   "source": [
    "# Data of TRIAL STORE\n",
    "tmp_Trialdf = trialstoredata.reset_index()\n",
    "tmp_Trialdf = tmp_Trialdf[['MONTH_ID',columnName]]\n",
    "tmp_Trialdf['Store_Type']=\"Trial_Store\"\n",
    "tmp_Trialdf.rename(columns={'MONTH_ID':\"Transaction_Month\",columnName:newName},inplace=True)\n",
    "tmp_Trialdf.head()"
   ]
  },
  {
   "cell_type": "code",
   "execution_count": 62,
   "metadata": {},
   "outputs": [
    {
     "data": {
      "text/html": [
       "<div>\n",
       "<style scoped>\n",
       "    .dataframe tbody tr th:only-of-type {\n",
       "        vertical-align: middle;\n",
       "    }\n",
       "\n",
       "    .dataframe tbody tr th {\n",
       "        vertical-align: top;\n",
       "    }\n",
       "\n",
       "    .dataframe thead th {\n",
       "        text-align: right;\n",
       "    }\n",
       "</style>\n",
       "<table border=\"1\" class=\"dataframe\">\n",
       "  <thead>\n",
       "    <tr style=\"text-align: right;\">\n",
       "      <th></th>\n",
       "      <th>Transaction_Month</th>\n",
       "      <th>Total_Sales</th>\n",
       "      <th>Store_Type</th>\n",
       "    </tr>\n",
       "  </thead>\n",
       "  <tbody>\n",
       "    <tr>\n",
       "      <th>0</th>\n",
       "      <td>201807</td>\n",
       "      <td>919.4332</td>\n",
       "      <td>Control 5 % Confidence</td>\n",
       "    </tr>\n",
       "    <tr>\n",
       "      <th>1</th>\n",
       "      <td>201808</td>\n",
       "      <td>777.5332</td>\n",
       "      <td>Control 5 % Confidence</td>\n",
       "    </tr>\n",
       "    <tr>\n",
       "      <th>2</th>\n",
       "      <td>201809</td>\n",
       "      <td>1009.2332</td>\n",
       "      <td>Control 5 % Confidence</td>\n",
       "    </tr>\n",
       "    <tr>\n",
       "      <th>3</th>\n",
       "      <td>201810</td>\n",
       "      <td>958.6332</td>\n",
       "      <td>Control 5 % Confidence</td>\n",
       "    </tr>\n",
       "    <tr>\n",
       "      <th>4</th>\n",
       "      <td>201811</td>\n",
       "      <td>893.6332</td>\n",
       "      <td>Control 5 % Confidence</td>\n",
       "    </tr>\n",
       "  </tbody>\n",
       "</table>\n",
       "</div>"
      ],
      "text/plain": [
       "   Transaction_Month  Total_Sales              Store_Type\n",
       "0             201807     919.4332  Control 5 % Confidence\n",
       "1             201808     777.5332  Control 5 % Confidence\n",
       "2             201809    1009.2332  Control 5 % Confidence\n",
       "3             201810     958.6332  Control 5 % Confidence\n",
       "4             201811     893.6332  Control 5 % Confidence"
      ]
     },
     "execution_count": 62,
     "metadata": {},
     "output_type": "execute_result"
    }
   ],
   "source": [
    "# Data of CONTROL store with 95% confidence\n",
    "pastSales_Control05 = tmp_Controldf.copy()\n",
    "pastSales_Control05[newName] = pastSales_Control05[newName]  - (stdDev*2)\n",
    "pastSales_Control05['Store_Type'] = \"Control 5 % Confidence\"\n",
    "pastSales_Control05.head()"
   ]
  },
  {
   "cell_type": "code",
   "execution_count": 63,
   "metadata": {},
   "outputs": [
    {
     "data": {
      "text/html": [
       "<div>\n",
       "<style scoped>\n",
       "    .dataframe tbody tr th:only-of-type {\n",
       "        vertical-align: middle;\n",
       "    }\n",
       "\n",
       "    .dataframe tbody tr th {\n",
       "        vertical-align: top;\n",
       "    }\n",
       "\n",
       "    .dataframe thead th {\n",
       "        text-align: right;\n",
       "    }\n",
       "</style>\n",
       "<table border=\"1\" class=\"dataframe\">\n",
       "  <thead>\n",
       "    <tr style=\"text-align: right;\">\n",
       "      <th></th>\n",
       "      <th>Transaction_Month</th>\n",
       "      <th>Total_Sales</th>\n",
       "      <th>Store_Type</th>\n",
       "    </tr>\n",
       "  </thead>\n",
       "  <tbody>\n",
       "    <tr>\n",
       "      <th>0</th>\n",
       "      <td>201807</td>\n",
       "      <td>929.7668</td>\n",
       "      <td>Control 95 % Confidence</td>\n",
       "    </tr>\n",
       "    <tr>\n",
       "      <th>1</th>\n",
       "      <td>201808</td>\n",
       "      <td>787.8668</td>\n",
       "      <td>Control 95 % Confidence</td>\n",
       "    </tr>\n",
       "    <tr>\n",
       "      <th>2</th>\n",
       "      <td>201809</td>\n",
       "      <td>1019.5668</td>\n",
       "      <td>Control 95 % Confidence</td>\n",
       "    </tr>\n",
       "    <tr>\n",
       "      <th>3</th>\n",
       "      <td>201810</td>\n",
       "      <td>968.9668</td>\n",
       "      <td>Control 95 % Confidence</td>\n",
       "    </tr>\n",
       "    <tr>\n",
       "      <th>4</th>\n",
       "      <td>201811</td>\n",
       "      <td>903.9668</td>\n",
       "      <td>Control 95 % Confidence</td>\n",
       "    </tr>\n",
       "  </tbody>\n",
       "</table>\n",
       "</div>"
      ],
      "text/plain": [
       "   Transaction_Month  Total_Sales               Store_Type\n",
       "0             201807     929.7668  Control 95 % Confidence\n",
       "1             201808     787.8668  Control 95 % Confidence\n",
       "2             201809    1019.5668  Control 95 % Confidence\n",
       "3             201810     968.9668  Control 95 % Confidence\n",
       "4             201811     903.9668  Control 95 % Confidence"
      ]
     },
     "execution_count": 63,
     "metadata": {},
     "output_type": "execute_result"
    }
   ],
   "source": [
    "# Data of CONTROL store with 5% confidence\n",
    "pastSales_Control95 = tmp_Controldf.copy()\n",
    "pastSales_Control95[newName] = pastSales_Control95[newName]  + (stdDev*2)\n",
    "pastSales_Control95['Store_Type'] = \"Control 95 % Confidence\"\n",
    "pastSales_Control95.head()"
   ]
  },
  {
   "cell_type": "code",
   "execution_count": 64,
   "metadata": {},
   "outputs": [
    {
     "name": "stdout",
     "output_type": "stream",
     "text": [
      "<class 'pandas.core.frame.DataFrame'>\n",
      "RangeIndex: 48 entries, 0 to 47\n",
      "Data columns (total 3 columns):\n",
      " #   Column             Non-Null Count  Dtype  \n",
      "---  ------             --------------  -----  \n",
      " 0   Store_Type         48 non-null     object \n",
      " 1   Total_Sales        48 non-null     float64\n",
      " 2   Transaction_Month  48 non-null     object \n",
      "dtypes: float64(1), object(2)\n",
      "memory usage: 1.2+ KB\n"
     ]
    }
   ],
   "source": [
    "# Merging all data into one dataframe\n",
    "pastSales = pd.DataFrame(columns=['Store_Type',newName,'Transaction_Month'])\n",
    "pastSales = pd.concat([pastSales,pastSales_Control05,tmp_Trialdf,tmp_Controldf,pastSales_Control95])\n",
    "pastSales.reset_index(inplace = True)\n",
    "pastSales.drop('index',axis=1,inplace=True)\n",
    "pastSales.info()"
   ]
  },
  {
   "cell_type": "code",
   "execution_count": 65,
   "metadata": {},
   "outputs": [
    {
     "data": {
      "text/html": [
       "<div>\n",
       "<style scoped>\n",
       "    .dataframe tbody tr th:only-of-type {\n",
       "        vertical-align: middle;\n",
       "    }\n",
       "\n",
       "    .dataframe tbody tr th {\n",
       "        vertical-align: top;\n",
       "    }\n",
       "\n",
       "    .dataframe thead th {\n",
       "        text-align: right;\n",
       "    }\n",
       "</style>\n",
       "<table border=\"1\" class=\"dataframe\">\n",
       "  <thead>\n",
       "    <tr style=\"text-align: right;\">\n",
       "      <th></th>\n",
       "      <th>Store_Type</th>\n",
       "      <th>Total_Sales</th>\n",
       "      <th>Transaction_Month</th>\n",
       "    </tr>\n",
       "  </thead>\n",
       "  <tbody>\n",
       "    <tr>\n",
       "      <th>7</th>\n",
       "      <td>Control 5 % Confidence</td>\n",
       "      <td>886.0332</td>\n",
       "      <td>201902</td>\n",
       "    </tr>\n",
       "    <tr>\n",
       "      <th>8</th>\n",
       "      <td>Control 5 % Confidence</td>\n",
       "      <td>799.2332</td>\n",
       "      <td>201903</td>\n",
       "    </tr>\n",
       "    <tr>\n",
       "      <th>9</th>\n",
       "      <td>Control 5 % Confidence</td>\n",
       "      <td>839.4332</td>\n",
       "      <td>201904</td>\n",
       "    </tr>\n",
       "    <tr>\n",
       "      <th>19</th>\n",
       "      <td>Trial_Store</td>\n",
       "      <td>913.2000</td>\n",
       "      <td>201902</td>\n",
       "    </tr>\n",
       "    <tr>\n",
       "      <th>20</th>\n",
       "      <td>Trial_Store</td>\n",
       "      <td>1026.8000</td>\n",
       "      <td>201903</td>\n",
       "    </tr>\n",
       "    <tr>\n",
       "      <th>21</th>\n",
       "      <td>Trial_Store</td>\n",
       "      <td>848.2000</td>\n",
       "      <td>201904</td>\n",
       "    </tr>\n",
       "    <tr>\n",
       "      <th>31</th>\n",
       "      <td>Control_Store</td>\n",
       "      <td>891.2000</td>\n",
       "      <td>201902</td>\n",
       "    </tr>\n",
       "    <tr>\n",
       "      <th>32</th>\n",
       "      <td>Control_Store</td>\n",
       "      <td>804.4000</td>\n",
       "      <td>201903</td>\n",
       "    </tr>\n",
       "    <tr>\n",
       "      <th>33</th>\n",
       "      <td>Control_Store</td>\n",
       "      <td>844.6000</td>\n",
       "      <td>201904</td>\n",
       "    </tr>\n",
       "    <tr>\n",
       "      <th>43</th>\n",
       "      <td>Control 95 % Confidence</td>\n",
       "      <td>896.3668</td>\n",
       "      <td>201902</td>\n",
       "    </tr>\n",
       "    <tr>\n",
       "      <th>44</th>\n",
       "      <td>Control 95 % Confidence</td>\n",
       "      <td>809.5668</td>\n",
       "      <td>201903</td>\n",
       "    </tr>\n",
       "    <tr>\n",
       "      <th>45</th>\n",
       "      <td>Control 95 % Confidence</td>\n",
       "      <td>849.7668</td>\n",
       "      <td>201904</td>\n",
       "    </tr>\n",
       "  </tbody>\n",
       "</table>\n",
       "</div>"
      ],
      "text/plain": [
       "                 Store_Type  Total_Sales Transaction_Month\n",
       "7    Control 5 % Confidence     886.0332            201902\n",
       "8    Control 5 % Confidence     799.2332            201903\n",
       "9    Control 5 % Confidence     839.4332            201904\n",
       "19              Trial_Store     913.2000            201902\n",
       "20              Trial_Store    1026.8000            201903\n",
       "21              Trial_Store     848.2000            201904\n",
       "31            Control_Store     891.2000            201902\n",
       "32            Control_Store     804.4000            201903\n",
       "33            Control_Store     844.6000            201904\n",
       "43  Control 95 % Confidence     896.3668            201902\n",
       "44  Control 95 % Confidence     809.5668            201903\n",
       "45  Control 95 % Confidence     849.7668            201904"
      ]
     },
     "execution_count": 65,
     "metadata": {},
     "output_type": "execute_result"
    }
   ],
   "source": [
    "trialPeriodSales = pastSales[(pastSales['Transaction_Month']<201905) & (pastSales['Transaction_Month']>201901)]\n",
    "trialPeriodSales"
   ]
  },
  {
   "cell_type": "code",
   "execution_count": 66,
   "metadata": {},
   "outputs": [],
   "source": [
    "#Deleting temporary dataframes\n",
    "del pastSales_Control05\n",
    "del pastSales_Control95\n",
    "del tmp_Controldf\n",
    "del tmp_Trialdf"
   ]
  },
  {
   "cell_type": "code",
   "execution_count": 67,
   "metadata": {},
   "outputs": [
    {
     "data": {
      "text/plain": [
       "<matplotlib.legend.Legend at 0x29238153518>"
      ]
     },
     "execution_count": 67,
     "metadata": {},
     "output_type": "execute_result"
    },
    {
     "data": {
      "image/png": "[encoded data removed]",
      "text/plain": [
       "<Figure size 800x300 with 1 Axes>"
      ]
     },
     "metadata": {
      "needs_background": "light"
     },
     "output_type": "display_data"
    }
   ],
   "source": [
    "fig =plt.figure(figsize=(8,3),dpi=100)\n",
    "ax = fig.add_axes([0,0,1,1])\n",
    "sns.barplot(y=newName,x='Transaction_Month',hue='Store_Type',data=trialPeriodSales)\n",
    "plt.legend(loc='center left', bbox_to_anchor=(1.0, 0.5))"
   ]
  },
  {
   "cell_type": "markdown",
   "metadata": {},
   "source": [
    "#### The results show that the trial in store 86 is not significantly different to its control store in the trial period as the trial store performance almost lies inside the 5% to 95% confidence interval of the control store in two of the three trial months\n",
    "___"
   ]
  },
  {
   "cell_type": "markdown",
   "metadata": {},
   "source": [
    "### Customers of Store-86"
   ]
  },
  {
   "cell_type": "code",
   "execution_count": 68,
   "metadata": {},
   "outputs": [],
   "source": [
    "columnName = 'TOTAL_CUSTOMERS'"
   ]
  },
  {
   "cell_type": "code",
   "execution_count": 69,
   "metadata": {},
   "outputs": [
    {
     "data": {
      "text/plain": [
       "1.0"
      ]
     },
     "execution_count": 69,
     "metadata": {},
     "output_type": "execute_result"
    }
   ],
   "source": [
    "scalingFactor = calcScalingFactor(TrialStoreNo,ControlStoreNo,columnName)\n",
    "scalingFactor"
   ]
  },
  {
   "cell_type": "code",
   "execution_count": 70,
   "metadata": {},
   "outputs": [],
   "source": [
    "#Making data frames to be used later\n",
    "controlStoredata = allTimeData.loc[ControlStoreNo].copy()\n",
    "trialstoredata = allTimeData.loc[TrialStoreNo].copy()"
   ]
  },
  {
   "cell_type": "code",
   "execution_count": 71,
   "metadata": {},
   "outputs": [
    {
     "data": {
      "text/html": [
       "<div>\n",
       "<style scoped>\n",
       "    .dataframe tbody tr th:only-of-type {\n",
       "        vertical-align: middle;\n",
       "    }\n",
       "\n",
       "    .dataframe tbody tr th {\n",
       "        vertical-align: top;\n",
       "    }\n",
       "\n",
       "    .dataframe thead th {\n",
       "        text-align: right;\n",
       "    }\n",
       "</style>\n",
       "<table border=\"1\" class=\"dataframe\">\n",
       "  <thead>\n",
       "    <tr style=\"text-align: right;\">\n",
       "      <th></th>\n",
       "      <th>TOTAL_CUSTOMERS</th>\n",
       "    </tr>\n",
       "    <tr>\n",
       "      <th>MONTH_ID</th>\n",
       "      <th></th>\n",
       "    </tr>\n",
       "  </thead>\n",
       "  <tbody>\n",
       "    <tr>\n",
       "      <th>201807</th>\n",
       "      <td>101.0</td>\n",
       "    </tr>\n",
       "    <tr>\n",
       "      <th>201808</th>\n",
       "      <td>91.0</td>\n",
       "    </tr>\n",
       "    <tr>\n",
       "      <th>201809</th>\n",
       "      <td>103.0</td>\n",
       "    </tr>\n",
       "    <tr>\n",
       "      <th>201810</th>\n",
       "      <td>108.0</td>\n",
       "    </tr>\n",
       "    <tr>\n",
       "      <th>201811</th>\n",
       "      <td>101.0</td>\n",
       "    </tr>\n",
       "  </tbody>\n",
       "</table>\n",
       "</div>"
      ],
      "text/plain": [
       "          TOTAL_CUSTOMERS\n",
       "MONTH_ID                 \n",
       "201807              101.0\n",
       "201808               91.0\n",
       "201809              103.0\n",
       "201810              108.0\n",
       "201811              101.0"
      ]
     },
     "execution_count": 71,
     "metadata": {},
     "output_type": "execute_result"
    }
   ],
   "source": [
    "#After scaling\n",
    "scaleddata=controlStoredata[[columnName]]*scalingFactor\n",
    "scaleddata.head()"
   ]
  },
  {
   "cell_type": "code",
   "execution_count": 72,
   "metadata": {},
   "outputs": [
    {
     "data": {
      "text/html": [
       "<div>\n",
       "<style scoped>\n",
       "    .dataframe tbody tr th:only-of-type {\n",
       "        vertical-align: middle;\n",
       "    }\n",
       "\n",
       "    .dataframe tbody tr th {\n",
       "        vertical-align: top;\n",
       "    }\n",
       "\n",
       "    .dataframe thead th {\n",
       "        text-align: right;\n",
       "    }\n",
       "</style>\n",
       "<table border=\"1\" class=\"dataframe\">\n",
       "  <thead>\n",
       "    <tr style=\"text-align: right;\">\n",
       "      <th></th>\n",
       "      <th>TOTAL_CUSTOMERS</th>\n",
       "    </tr>\n",
       "    <tr>\n",
       "      <th>MONTH_ID</th>\n",
       "      <th></th>\n",
       "    </tr>\n",
       "  </thead>\n",
       "  <tbody>\n",
       "    <tr>\n",
       "      <th>201807</th>\n",
       "      <td>1.980198</td>\n",
       "    </tr>\n",
       "    <tr>\n",
       "      <th>201808</th>\n",
       "      <td>3.296703</td>\n",
       "    </tr>\n",
       "    <tr>\n",
       "      <th>201809</th>\n",
       "      <td>0.000000</td>\n",
       "    </tr>\n",
       "    <tr>\n",
       "      <th>201810</th>\n",
       "      <td>0.925926</td>\n",
       "    </tr>\n",
       "    <tr>\n",
       "      <th>201811</th>\n",
       "      <td>0.990099</td>\n",
       "    </tr>\n",
       "  </tbody>\n",
       "</table>\n",
       "</div>"
      ],
      "text/plain": [
       "          TOTAL_CUSTOMERS\n",
       "MONTH_ID                 \n",
       "201807           1.980198\n",
       "201808           3.296703\n",
       "201809           0.000000\n",
       "201810           0.925926\n",
       "201811           0.990099"
      ]
     },
     "execution_count": 72,
     "metadata": {},
     "output_type": "execute_result"
    }
   ],
   "source": [
    "percentDiff_Sales = abs(scaleddata[[columnName]]-trialstoredata[[columnName]])*100/scaleddata[[columnName]]\n",
    "percentDiff_Sales.head()"
   ]
  },
  {
   "cell_type": "code",
   "execution_count": 73,
   "metadata": {},
   "outputs": [
    {
     "name": "stdout",
     "output_type": "stream",
     "text": [
      "Mean of scaled control store = 96.0\n",
      "Mean of Trial store = 109.0\n",
      "Standard deviation of data = 1.0687\n"
     ]
    }
   ],
   "source": [
    "#Finding means and std. deviation\n",
    "meanControl = scaleddata.loc[201902:201904].copy()\n",
    "m_Cont = meanControl[columnName].mean()\n",
    "m_Cont = round(m_Cont,2)\n",
    "\n",
    "meanTrial = trialstoredata.loc[201902:201904].copy()\n",
    "m_Trial = meanTrial[columnName].mean()\n",
    "m_Trial = round(m_Trial,2)\n",
    "\n",
    "stdDev = (percentDiff_Sales.loc[:201901]).std()\n",
    "stdDev = stdDev[columnName]\n",
    "stdDev = round(stdDev,4)\n",
    "\n",
    "print(\"Mean of scaled control store = {}\".format(m_Cont))\n",
    "print(\"Mean of Trial store = {}\".format(m_Trial))\n",
    "print(\"Standard deviation of data = {}\".format(stdDev))"
   ]
  },
  {
   "cell_type": "code",
   "execution_count": 74,
   "metadata": {},
   "outputs": [
    {
     "name": "stdout",
     "output_type": "stream",
     "text": [
      "t-statistic = 12.1643\n",
      "t-critical = 1.8946\n"
     ]
    }
   ],
   "source": [
    "# Performing t-test for alpha=0.05\n",
    "from scipy.stats import t\n",
    "#Calculating t-statistic\n",
    "t_stat = abs(m_Cont-m_Trial)/stdDev\n",
    "t_stat = round(t_stat,4)\n",
    "#Calculating critical t-value\n",
    "alpha=0.05\n",
    "degree = 8-1\n",
    "cv_t = t.ppf(1-alpha, degree)\n",
    "cv_t = round(cv_t,4)\n",
    "print(\"t-statistic = {}\".format(t_stat))\n",
    "print(\"t-critical = {}\".format(cv_t))"
   ]
  },
  {
   "cell_type": "code",
   "execution_count": 75,
   "metadata": {},
   "outputs": [
    {
     "data": {
      "text/html": [
       "<div>\n",
       "<style scoped>\n",
       "    .dataframe tbody tr th:only-of-type {\n",
       "        vertical-align: middle;\n",
       "    }\n",
       "\n",
       "    .dataframe tbody tr th {\n",
       "        vertical-align: top;\n",
       "    }\n",
       "\n",
       "    .dataframe thead th {\n",
       "        text-align: right;\n",
       "    }\n",
       "</style>\n",
       "<table border=\"1\" class=\"dataframe\">\n",
       "  <thead>\n",
       "    <tr style=\"text-align: right;\">\n",
       "      <th></th>\n",
       "      <th>Transaction_Month</th>\n",
       "      <th>Total_Customers</th>\n",
       "      <th>Store_Type</th>\n",
       "    </tr>\n",
       "  </thead>\n",
       "  <tbody>\n",
       "    <tr>\n",
       "      <th>0</th>\n",
       "      <td>201807</td>\n",
       "      <td>101</td>\n",
       "      <td>Control_Store</td>\n",
       "    </tr>\n",
       "    <tr>\n",
       "      <th>1</th>\n",
       "      <td>201808</td>\n",
       "      <td>91</td>\n",
       "      <td>Control_Store</td>\n",
       "    </tr>\n",
       "    <tr>\n",
       "      <th>2</th>\n",
       "      <td>201809</td>\n",
       "      <td>103</td>\n",
       "      <td>Control_Store</td>\n",
       "    </tr>\n",
       "    <tr>\n",
       "      <th>3</th>\n",
       "      <td>201810</td>\n",
       "      <td>108</td>\n",
       "      <td>Control_Store</td>\n",
       "    </tr>\n",
       "    <tr>\n",
       "      <th>4</th>\n",
       "      <td>201811</td>\n",
       "      <td>101</td>\n",
       "      <td>Control_Store</td>\n",
       "    </tr>\n",
       "  </tbody>\n",
       "</table>\n",
       "</div>"
      ],
      "text/plain": [
       "   Transaction_Month  Total_Customers     Store_Type\n",
       "0             201807              101  Control_Store\n",
       "1             201808               91  Control_Store\n",
       "2             201809              103  Control_Store\n",
       "3             201810              108  Control_Store\n",
       "4             201811              101  Control_Store"
      ]
     },
     "execution_count": 75,
     "metadata": {},
     "output_type": "execute_result"
    }
   ],
   "source": [
    "# To visualize data\n",
    "newName = \"Total_Customers\"\n",
    "# Data of CONTROL STORE\n",
    "tmp_Controldf = controlStoredata.reset_index()\n",
    "tmp_Controldf = tmp_Controldf[['MONTH_ID',columnName]]\n",
    "tmp_Controldf['Store_Type']=\"Control_Store\"\n",
    "tmp_Controldf.rename(columns={'MONTH_ID':\"Transaction_Month\",columnName:newName},inplace=True)\n",
    "tmp_Controldf.head()"
   ]
  },
  {
   "cell_type": "code",
   "execution_count": 76,
   "metadata": {},
   "outputs": [
    {
     "data": {
      "text/html": [
       "<div>\n",
       "<style scoped>\n",
       "    .dataframe tbody tr th:only-of-type {\n",
       "        vertical-align: middle;\n",
       "    }\n",
       "\n",
       "    .dataframe tbody tr th {\n",
       "        vertical-align: top;\n",
       "    }\n",
       "\n",
       "    .dataframe thead th {\n",
       "        text-align: right;\n",
       "    }\n",
       "</style>\n",
       "<table border=\"1\" class=\"dataframe\">\n",
       "  <thead>\n",
       "    <tr style=\"text-align: right;\">\n",
       "      <th></th>\n",
       "      <th>Transaction_Month</th>\n",
       "      <th>Total_Customers</th>\n",
       "      <th>Store_Type</th>\n",
       "    </tr>\n",
       "  </thead>\n",
       "  <tbody>\n",
       "    <tr>\n",
       "      <th>0</th>\n",
       "      <td>201807</td>\n",
       "      <td>99</td>\n",
       "      <td>Trial_Store</td>\n",
       "    </tr>\n",
       "    <tr>\n",
       "      <th>1</th>\n",
       "      <td>201808</td>\n",
       "      <td>94</td>\n",
       "      <td>Trial_Store</td>\n",
       "    </tr>\n",
       "    <tr>\n",
       "      <th>2</th>\n",
       "      <td>201809</td>\n",
       "      <td>103</td>\n",
       "      <td>Trial_Store</td>\n",
       "    </tr>\n",
       "    <tr>\n",
       "      <th>3</th>\n",
       "      <td>201810</td>\n",
       "      <td>109</td>\n",
       "      <td>Trial_Store</td>\n",
       "    </tr>\n",
       "    <tr>\n",
       "      <th>4</th>\n",
       "      <td>201811</td>\n",
       "      <td>100</td>\n",
       "      <td>Trial_Store</td>\n",
       "    </tr>\n",
       "  </tbody>\n",
       "</table>\n",
       "</div>"
      ],
      "text/plain": [
       "   Transaction_Month  Total_Customers   Store_Type\n",
       "0             201807               99  Trial_Store\n",
       "1             201808               94  Trial_Store\n",
       "2             201809              103  Trial_Store\n",
       "3             201810              109  Trial_Store\n",
       "4             201811              100  Trial_Store"
      ]
     },
     "execution_count": 76,
     "metadata": {},
     "output_type": "execute_result"
    }
   ],
   "source": [
    "# Data of TRIAL STORE\n",
    "tmp_Trialdf = trialstoredata.reset_index()\n",
    "tmp_Trialdf = tmp_Trialdf[['MONTH_ID',columnName]]\n",
    "tmp_Trialdf['Store_Type']=\"Trial_Store\"\n",
    "tmp_Trialdf.rename(columns={'MONTH_ID':\"Transaction_Month\",columnName:newName},inplace=True)\n",
    "tmp_Trialdf.head()"
   ]
  },
  {
   "cell_type": "code",
   "execution_count": 77,
   "metadata": {},
   "outputs": [
    {
     "data": {
      "text/html": [
       "<div>\n",
       "<style scoped>\n",
       "    .dataframe tbody tr th:only-of-type {\n",
       "        vertical-align: middle;\n",
       "    }\n",
       "\n",
       "    .dataframe tbody tr th {\n",
       "        vertical-align: top;\n",
       "    }\n",
       "\n",
       "    .dataframe thead th {\n",
       "        text-align: right;\n",
       "    }\n",
       "</style>\n",
       "<table border=\"1\" class=\"dataframe\">\n",
       "  <thead>\n",
       "    <tr style=\"text-align: right;\">\n",
       "      <th></th>\n",
       "      <th>Transaction_Month</th>\n",
       "      <th>Total_Customers</th>\n",
       "      <th>Store_Type</th>\n",
       "    </tr>\n",
       "  </thead>\n",
       "  <tbody>\n",
       "    <tr>\n",
       "      <th>0</th>\n",
       "      <td>201807</td>\n",
       "      <td>98.8626</td>\n",
       "      <td>Control 5 % Confidence</td>\n",
       "    </tr>\n",
       "    <tr>\n",
       "      <th>1</th>\n",
       "      <td>201808</td>\n",
       "      <td>88.8626</td>\n",
       "      <td>Control 5 % Confidence</td>\n",
       "    </tr>\n",
       "    <tr>\n",
       "      <th>2</th>\n",
       "      <td>201809</td>\n",
       "      <td>100.8626</td>\n",
       "      <td>Control 5 % Confidence</td>\n",
       "    </tr>\n",
       "    <tr>\n",
       "      <th>3</th>\n",
       "      <td>201810</td>\n",
       "      <td>105.8626</td>\n",
       "      <td>Control 5 % Confidence</td>\n",
       "    </tr>\n",
       "    <tr>\n",
       "      <th>4</th>\n",
       "      <td>201811</td>\n",
       "      <td>98.8626</td>\n",
       "      <td>Control 5 % Confidence</td>\n",
       "    </tr>\n",
       "  </tbody>\n",
       "</table>\n",
       "</div>"
      ],
      "text/plain": [
       "   Transaction_Month  Total_Customers              Store_Type\n",
       "0             201807          98.8626  Control 5 % Confidence\n",
       "1             201808          88.8626  Control 5 % Confidence\n",
       "2             201809         100.8626  Control 5 % Confidence\n",
       "3             201810         105.8626  Control 5 % Confidence\n",
       "4             201811          98.8626  Control 5 % Confidence"
      ]
     },
     "execution_count": 77,
     "metadata": {},
     "output_type": "execute_result"
    }
   ],
   "source": [
    "# Data of CONTROL store with 5% confidence\n",
    "pastSales_Control05 = tmp_Controldf.copy()\n",
    "pastSales_Control05[newName] = pastSales_Control05[newName]  - (stdDev*2)\n",
    "pastSales_Control05['Store_Type'] = \"Control 5 % Confidence\"\n",
    "pastSales_Control05.head()"
   ]
  },
  {
   "cell_type": "code",
   "execution_count": 78,
   "metadata": {},
   "outputs": [
    {
     "data": {
      "text/html": [
       "<div>\n",
       "<style scoped>\n",
       "    .dataframe tbody tr th:only-of-type {\n",
       "        vertical-align: middle;\n",
       "    }\n",
       "\n",
       "    .dataframe tbody tr th {\n",
       "        vertical-align: top;\n",
       "    }\n",
       "\n",
       "    .dataframe thead th {\n",
       "        text-align: right;\n",
       "    }\n",
       "</style>\n",
       "<table border=\"1\" class=\"dataframe\">\n",
       "  <thead>\n",
       "    <tr style=\"text-align: right;\">\n",
       "      <th></th>\n",
       "      <th>Transaction_Month</th>\n",
       "      <th>Total_Customers</th>\n",
       "      <th>Store_Type</th>\n",
       "    </tr>\n",
       "  </thead>\n",
       "  <tbody>\n",
       "    <tr>\n",
       "      <th>0</th>\n",
       "      <td>201807</td>\n",
       "      <td>103.1374</td>\n",
       "      <td>Control 95 % Confidence</td>\n",
       "    </tr>\n",
       "    <tr>\n",
       "      <th>1</th>\n",
       "      <td>201808</td>\n",
       "      <td>93.1374</td>\n",
       "      <td>Control 95 % Confidence</td>\n",
       "    </tr>\n",
       "    <tr>\n",
       "      <th>2</th>\n",
       "      <td>201809</td>\n",
       "      <td>105.1374</td>\n",
       "      <td>Control 95 % Confidence</td>\n",
       "    </tr>\n",
       "    <tr>\n",
       "      <th>3</th>\n",
       "      <td>201810</td>\n",
       "      <td>110.1374</td>\n",
       "      <td>Control 95 % Confidence</td>\n",
       "    </tr>\n",
       "    <tr>\n",
       "      <th>4</th>\n",
       "      <td>201811</td>\n",
       "      <td>103.1374</td>\n",
       "      <td>Control 95 % Confidence</td>\n",
       "    </tr>\n",
       "  </tbody>\n",
       "</table>\n",
       "</div>"
      ],
      "text/plain": [
       "   Transaction_Month  Total_Customers               Store_Type\n",
       "0             201807         103.1374  Control 95 % Confidence\n",
       "1             201808          93.1374  Control 95 % Confidence\n",
       "2             201809         105.1374  Control 95 % Confidence\n",
       "3             201810         110.1374  Control 95 % Confidence\n",
       "4             201811         103.1374  Control 95 % Confidence"
      ]
     },
     "execution_count": 78,
     "metadata": {},
     "output_type": "execute_result"
    }
   ],
   "source": [
    "# Data of CONTROL store with 95% confidence\n",
    "pastSales_Control95 = tmp_Controldf.copy()\n",
    "pastSales_Control95[newName] = pastSales_Control95[newName]  + (stdDev*2)\n",
    "pastSales_Control95['Store_Type'] = \"Control 95 % Confidence\"\n",
    "pastSales_Control95.head()"
   ]
  },
  {
   "cell_type": "code",
   "execution_count": 79,
   "metadata": {},
   "outputs": [
    {
     "name": "stdout",
     "output_type": "stream",
     "text": [
      "<class 'pandas.core.frame.DataFrame'>\n",
      "RangeIndex: 48 entries, 0 to 47\n",
      "Data columns (total 3 columns):\n",
      " #   Column             Non-Null Count  Dtype  \n",
      "---  ------             --------------  -----  \n",
      " 0   Store_Type         48 non-null     object \n",
      " 1   Total_Customers    48 non-null     float64\n",
      " 2   Transaction_Month  48 non-null     object \n",
      "dtypes: float64(1), object(2)\n",
      "memory usage: 1.2+ KB\n"
     ]
    }
   ],
   "source": [
    "# Merging all data into one dataframe\n",
    "pastSales = pd.DataFrame(columns=['Store_Type',newName,'Transaction_Month'])\n",
    "pastSales = pd.concat([pastSales,pastSales_Control05,tmp_Trialdf,tmp_Controldf,pastSales_Control95])\n",
    "pastSales.reset_index(inplace = True)\n",
    "pastSales.drop('index',axis=1,inplace=True)\n",
    "pastSales.info()"
   ]
  },
  {
   "cell_type": "code",
   "execution_count": 80,
   "metadata": {},
   "outputs": [
    {
     "data": {
      "text/html": [
       "<div>\n",
       "<style scoped>\n",
       "    .dataframe tbody tr th:only-of-type {\n",
       "        vertical-align: middle;\n",
       "    }\n",
       "\n",
       "    .dataframe tbody tr th {\n",
       "        vertical-align: top;\n",
       "    }\n",
       "\n",
       "    .dataframe thead th {\n",
       "        text-align: right;\n",
       "    }\n",
       "</style>\n",
       "<table border=\"1\" class=\"dataframe\">\n",
       "  <thead>\n",
       "    <tr style=\"text-align: right;\">\n",
       "      <th></th>\n",
       "      <th>Store_Type</th>\n",
       "      <th>Total_Customers</th>\n",
       "      <th>Transaction_Month</th>\n",
       "    </tr>\n",
       "  </thead>\n",
       "  <tbody>\n",
       "    <tr>\n",
       "      <th>7</th>\n",
       "      <td>Control 5 % Confidence</td>\n",
       "      <td>92.8626</td>\n",
       "      <td>201902</td>\n",
       "    </tr>\n",
       "    <tr>\n",
       "      <th>8</th>\n",
       "      <td>Control 5 % Confidence</td>\n",
       "      <td>91.8626</td>\n",
       "      <td>201903</td>\n",
       "    </tr>\n",
       "    <tr>\n",
       "      <th>9</th>\n",
       "      <td>Control 5 % Confidence</td>\n",
       "      <td>96.8626</td>\n",
       "      <td>201904</td>\n",
       "    </tr>\n",
       "    <tr>\n",
       "      <th>19</th>\n",
       "      <td>Trial_Store</td>\n",
       "      <td>107.0000</td>\n",
       "      <td>201902</td>\n",
       "    </tr>\n",
       "    <tr>\n",
       "      <th>20</th>\n",
       "      <td>Trial_Store</td>\n",
       "      <td>115.0000</td>\n",
       "      <td>201903</td>\n",
       "    </tr>\n",
       "    <tr>\n",
       "      <th>21</th>\n",
       "      <td>Trial_Store</td>\n",
       "      <td>105.0000</td>\n",
       "      <td>201904</td>\n",
       "    </tr>\n",
       "    <tr>\n",
       "      <th>31</th>\n",
       "      <td>Control_Store</td>\n",
       "      <td>95.0000</td>\n",
       "      <td>201902</td>\n",
       "    </tr>\n",
       "    <tr>\n",
       "      <th>32</th>\n",
       "      <td>Control_Store</td>\n",
       "      <td>94.0000</td>\n",
       "      <td>201903</td>\n",
       "    </tr>\n",
       "    <tr>\n",
       "      <th>33</th>\n",
       "      <td>Control_Store</td>\n",
       "      <td>99.0000</td>\n",
       "      <td>201904</td>\n",
       "    </tr>\n",
       "    <tr>\n",
       "      <th>43</th>\n",
       "      <td>Control 95 % Confidence</td>\n",
       "      <td>97.1374</td>\n",
       "      <td>201902</td>\n",
       "    </tr>\n",
       "    <tr>\n",
       "      <th>44</th>\n",
       "      <td>Control 95 % Confidence</td>\n",
       "      <td>96.1374</td>\n",
       "      <td>201903</td>\n",
       "    </tr>\n",
       "    <tr>\n",
       "      <th>45</th>\n",
       "      <td>Control 95 % Confidence</td>\n",
       "      <td>101.1374</td>\n",
       "      <td>201904</td>\n",
       "    </tr>\n",
       "  </tbody>\n",
       "</table>\n",
       "</div>"
      ],
      "text/plain": [
       "                 Store_Type  Total_Customers Transaction_Month\n",
       "7    Control 5 % Confidence          92.8626            201902\n",
       "8    Control 5 % Confidence          91.8626            201903\n",
       "9    Control 5 % Confidence          96.8626            201904\n",
       "19              Trial_Store         107.0000            201902\n",
       "20              Trial_Store         115.0000            201903\n",
       "21              Trial_Store         105.0000            201904\n",
       "31            Control_Store          95.0000            201902\n",
       "32            Control_Store          94.0000            201903\n",
       "33            Control_Store          99.0000            201904\n",
       "43  Control 95 % Confidence          97.1374            201902\n",
       "44  Control 95 % Confidence          96.1374            201903\n",
       "45  Control 95 % Confidence         101.1374            201904"
      ]
     },
     "execution_count": 80,
     "metadata": {},
     "output_type": "execute_result"
    }
   ],
   "source": [
    "trialPeriodSales = pastSales[(pastSales['Transaction_Month']<201905) & (pastSales['Transaction_Month']>201901)]\n",
    "trialPeriodSales"
   ]
  },
  {
   "cell_type": "code",
   "execution_count": 81,
   "metadata": {},
   "outputs": [],
   "source": [
    "#Deleting temporary dataframes\n",
    "del pastSales_Control05\n",
    "del pastSales_Control95\n",
    "del tmp_Controldf\n",
    "del tmp_Trialdf"
   ]
  },
  {
   "cell_type": "code",
   "execution_count": 82,
   "metadata": {},
   "outputs": [
    {
     "data": {
      "text/plain": [
       "<matplotlib.legend.Legend at 0x292383b7080>"
      ]
     },
     "execution_count": 82,
     "metadata": {},
     "output_type": "execute_result"
    },
    {
     "data": {
      "image/png": "[encoded data removed]",
      "text/plain": [
       "<Figure size 800x300 with 1 Axes>"
      ]
     },
     "metadata": {
      "needs_background": "light"
     },
     "output_type": "display_data"
    }
   ],
   "source": [
    "fig =plt.figure(figsize=(8,3),dpi=100)\n",
    "ax = fig.add_axes([0,0,1,1])\n",
    "sns.barplot(y=newName,x='Transaction_Month',hue='Store_Type',data=trialPeriodSales)\n",
    "plt.legend(loc='center left', bbox_to_anchor=(1.0, 0.5))"
   ]
  },
  {
   "cell_type": "markdown",
   "metadata": {},
   "source": [
    "#### It looks like the number of customers is significantly higher in all of the three months. This seems to suggest that the trial had a significant impact on increasing the number of customers in trial store 86 but as we saw, sales were not significantly higher. We should check with the Category Manager if there were special deals in the trial store that were may have resulted in lower prices, impacting the results.\n",
    "___\n"
   ]
  },
  {
   "cell_type": "markdown",
   "metadata": {},
   "source": [
    "## Store-88 : Performance Analysis"
   ]
  },
  {
   "cell_type": "code",
   "execution_count": 83,
   "metadata": {},
   "outputs": [],
   "source": [
    "#To calculate total score and find control center\n",
    "def calcScore(corrTbl,magnTbl):\n",
    "    combinedScoreTable = 0\n",
    "    #After merging all 4 scores\n",
    "    #combinedScoreTable = pd.concat([corrTbl,magnTbl],axis=1)\n",
    "    combinedScoreTable = pd.concat([magnTbl],axis=1)\n",
    "    #Calculating total score\n",
    "    combinedScoreTable['Total_Score']=combinedScoreTable.mean(axis=1)\n",
    "    #Maximum score\n",
    "    storeNBR = combinedScoreTable[combinedScoreTable['Total_Score']==combinedScoreTable['Total_Score'].max()].index[0]\n",
    "    return storeNBR"
   ]
  },
  {
   "cell_type": "code",
   "execution_count": 84,
   "metadata": {},
   "outputs": [
    {
     "name": "stdout",
     "output_type": "stream",
     "text": [
      "Control store for Store 88 is Store 237\n"
     ]
    }
   ],
   "source": [
    "store88 = calcScore(corrSt_88,magnDist88)\n",
    "print(\"Control store for Store 88 is Store {}\".format(store88))"
   ]
  },
  {
   "cell_type": "code",
   "execution_count": 90,
   "metadata": {},
   "outputs": [],
   "source": [
    "#Changing the value of variables\n",
    "TrialStoreNo = 88\n",
    "ControlStoreNo = store88"
   ]
  },
  {
   "cell_type": "code",
   "execution_count": 91,
   "metadata": {},
   "outputs": [],
   "source": [
    "control_Sales = fetchVal(ControlStoreNo,'TOT_SALES')\n",
    "control_Cust = fetchVal(ControlStoreNo ,'TOTAL_CUSTOMERS')\n",
    "trial_Sales = fetchVal(TrialStoreNo,'TOT_SALES')\n",
    "trial_Cust = fetchVal(TrialStoreNo,'TOTAL_CUSTOMERS')\n",
    "\n",
    "#Creating new dataframe 'compartable'\n",
    "comparTable = pd.DataFrame(index=['TOT_SALES','TOT_CUSTOMER'],columns=['TRIAL_ST','CONTROL_ST'])\n",
    "comparTable['TRIAL_ST']['TOT_SALES'] = trial_Sales\n",
    "comparTable['TRIAL_ST']['TOT_CUSTOMER'] = trial_Cust\n",
    "comparTable['CONTROL_ST']['TOT_SALES'] = control_Sales\n",
    "comparTable['CONTROL_ST']['TOT_CUSTOMER'] = control_Cust\n",
    "comparTable=comparTable.transpose()"
   ]
  },
  {
   "cell_type": "code",
   "execution_count": 92,
   "metadata": {},
   "outputs": [
    {
     "data": {
      "image/png": "[encoded data removed]",
      "text/plain": [
       "<Figure size 900x250 with 2 Axes>"
      ]
     },
     "metadata": {
      "needs_background": "light"
     },
     "output_type": "display_data"
    }
   ],
   "source": [
    "#Comparing data of trial store and control store\n",
    "x=comparTable\n",
    "fig =plt.figure(figsize=(9,2.5),dpi=100)\n",
    "ax = fig.add_axes([0,0,1,1])\n",
    "plt.subplot(1,2,1)\n",
    "plt.title(\"Total Sales comparison\")\n",
    "sns.barplot(x=x.index,y='TOT_SALES',data=x)\n",
    "plt.subplot(1,2,2)\n",
    "plt.title(\"Total Customers comparison\")\n",
    "sns.barplot(x=x.index,y='TOT_CUSTOMER',data=x)\n",
    "plt.tight_layout()"
   ]
  },
  {
   "cell_type": "markdown",
   "metadata": {},
   "source": [
    "___\n",
    "### Sales of Store-88"
   ]
  },
  {
   "cell_type": "code",
   "execution_count": 93,
   "metadata": {},
   "outputs": [],
   "source": [
    "columnName = 'TOT_SALES'"
   ]
  },
  {
   "cell_type": "code",
   "execution_count": 95,
   "metadata": {},
   "outputs": [
    {
     "data": {
      "text/plain": [
       "1.001558330664959"
      ]
     },
     "execution_count": 95,
     "metadata": {},
     "output_type": "execute_result"
    }
   ],
   "source": [
    "scalingFactor = calcScalingFactor(TrialStoreNo,ControlStoreNo,columnName)\n",
    "scalingFactor"
   ]
  },
  {
   "cell_type": "code",
   "execution_count": 96,
   "metadata": {},
   "outputs": [],
   "source": [
    "controlStoredata = allTimeData.loc[ControlStoreNo].copy()\n",
    "trialstoredata = allTimeData.loc[TrialStoreNo].copy()"
   ]
  },
  {
   "cell_type": "code",
   "execution_count": 97,
   "metadata": {},
   "outputs": [
    {
     "data": {
      "text/html": [
       "<div>\n",
       "<style scoped>\n",
       "    .dataframe tbody tr th:only-of-type {\n",
       "        vertical-align: middle;\n",
       "    }\n",
       "\n",
       "    .dataframe tbody tr th {\n",
       "        vertical-align: top;\n",
       "    }\n",
       "\n",
       "    .dataframe thead th {\n",
       "        text-align: right;\n",
       "    }\n",
       "</style>\n",
       "<table border=\"1\" class=\"dataframe\">\n",
       "  <thead>\n",
       "    <tr style=\"text-align: right;\">\n",
       "      <th></th>\n",
       "      <th>TOT_SALES</th>\n",
       "    </tr>\n",
       "    <tr>\n",
       "      <th>MONTH_ID</th>\n",
       "      <th></th>\n",
       "    </tr>\n",
       "  </thead>\n",
       "  <tbody>\n",
       "    <tr>\n",
       "      <th>201807</th>\n",
       "      <td>1450.657086</td>\n",
       "    </tr>\n",
       "    <tr>\n",
       "      <th>201808</th>\n",
       "      <td>1369.931485</td>\n",
       "    </tr>\n",
       "    <tr>\n",
       "      <th>201809</th>\n",
       "      <td>1324.260425</td>\n",
       "    </tr>\n",
       "    <tr>\n",
       "      <th>201810</th>\n",
       "      <td>1350.401097</td>\n",
       "    </tr>\n",
       "    <tr>\n",
       "      <th>201811</th>\n",
       "      <td>1399.777923</td>\n",
       "    </tr>\n",
       "  </tbody>\n",
       "</table>\n",
       "</div>"
      ],
      "text/plain": [
       "            TOT_SALES\n",
       "MONTH_ID             \n",
       "201807    1450.657086\n",
       "201808    1369.931485\n",
       "201809    1324.260425\n",
       "201810    1350.401097\n",
       "201811    1399.777923"
      ]
     },
     "execution_count": 97,
     "metadata": {},
     "output_type": "execute_result"
    }
   ],
   "source": [
    "#After scaling\n",
    "scaleddata=controlStoredata[[columnName]]*scalingFactor\n",
    "scaleddata.head()"
   ]
  },
  {
   "cell_type": "code",
   "execution_count": 98,
   "metadata": {},
   "outputs": [
    {
     "data": {
      "text/html": [
       "<div>\n",
       "<style scoped>\n",
       "    .dataframe tbody tr th:only-of-type {\n",
       "        vertical-align: middle;\n",
       "    }\n",
       "\n",
       "    .dataframe tbody tr th {\n",
       "        vertical-align: top;\n",
       "    }\n",
       "\n",
       "    .dataframe thead th {\n",
       "        text-align: right;\n",
       "    }\n",
       "</style>\n",
       "<table border=\"1\" class=\"dataframe\">\n",
       "  <thead>\n",
       "    <tr style=\"text-align: right;\">\n",
       "      <th></th>\n",
       "      <th>TOT_SALES</th>\n",
       "    </tr>\n",
       "    <tr>\n",
       "      <th>MONTH_ID</th>\n",
       "      <th></th>\n",
       "    </tr>\n",
       "  </thead>\n",
       "  <tbody>\n",
       "    <tr>\n",
       "      <th>201807</th>\n",
       "      <td>9.696095</td>\n",
       "    </tr>\n",
       "    <tr>\n",
       "      <th>201808</th>\n",
       "      <td>3.367430</td>\n",
       "    </tr>\n",
       "    <tr>\n",
       "      <th>201809</th>\n",
       "      <td>7.456205</td>\n",
       "    </tr>\n",
       "    <tr>\n",
       "      <th>201810</th>\n",
       "      <td>0.148023</td>\n",
       "    </tr>\n",
       "    <tr>\n",
       "      <th>201811</th>\n",
       "      <td>1.212901</td>\n",
       "    </tr>\n",
       "  </tbody>\n",
       "</table>\n",
       "</div>"
      ],
      "text/plain": [
       "          TOT_SALES\n",
       "MONTH_ID           \n",
       "201807     9.696095\n",
       "201808     3.367430\n",
       "201809     7.456205\n",
       "201810     0.148023\n",
       "201811     1.212901"
      ]
     },
     "execution_count": 98,
     "metadata": {},
     "output_type": "execute_result"
    }
   ],
   "source": [
    "percentDiff_Sales = abs(scaleddata[[columnName]]-trialstoredata[[columnName]])*100/scaleddata[[columnName]]\n",
    "percentDiff_Sales.head()"
   ]
  },
  {
   "cell_type": "code",
   "execution_count": 99,
   "metadata": {},
   "outputs": [
    {
     "name": "stdout",
     "output_type": "stream",
     "text": [
      "Mean of scaled control store = 1274.52\n",
      "Mean of Trial store = 1428.93\n",
      "Standard deviation of data = 3.3468\n"
     ]
    }
   ],
   "source": [
    "#Finding means and std. deviation\n",
    "meanControl = scaleddata.loc[201902:201904].copy()\n",
    "m_Cont = meanControl[columnName].mean()\n",
    "m_Cont = round(m_Cont,2)\n",
    "\n",
    "meanTrial = trialstoredata.loc[201902:201904].copy()\n",
    "m_Trial = meanTrial[columnName].mean()\n",
    "m_Trial = round(m_Trial,2)\n",
    "\n",
    "stdDev = (percentDiff_Sales.loc[:201901]).std()\n",
    "stdDev = stdDev[columnName]\n",
    "stdDev = round(stdDev,4)\n",
    "\n",
    "print(\"Mean of scaled control store = {}\".format(m_Cont))\n",
    "print(\"Mean of Trial store = {}\".format(m_Trial))\n",
    "print(\"Standard deviation of data = {}\".format(stdDev))"
   ]
  },
  {
   "cell_type": "code",
   "execution_count": 100,
   "metadata": {},
   "outputs": [
    {
     "name": "stdout",
     "output_type": "stream",
     "text": [
      "t-statistic = 46.1366\n",
      "t-critical = 1.8946\n"
     ]
    }
   ],
   "source": [
    "# Performing t-test for alpha=0.05\n",
    "from scipy.stats import t\n",
    "#Calculating t-statistic\n",
    "t_stat = abs(m_Cont-m_Trial)/stdDev\n",
    "t_stat = round(t_stat,4)\n",
    "#Calculating critical t-value\n",
    "alpha=0.05\n",
    "degree = 8-1\n",
    "cv_t = t.ppf(1-alpha, degree)\n",
    "cv_t = round(cv_t,4)\n",
    "print(\"t-statistic = {}\".format(t_stat))\n",
    "print(\"t-critical = {}\".format(cv_t))"
   ]
  },
  {
   "cell_type": "code",
   "execution_count": 101,
   "metadata": {},
   "outputs": [
    {
     "data": {
      "text/html": [
       "<div>\n",
       "<style scoped>\n",
       "    .dataframe tbody tr th:only-of-type {\n",
       "        vertical-align: middle;\n",
       "    }\n",
       "\n",
       "    .dataframe tbody tr th {\n",
       "        vertical-align: top;\n",
       "    }\n",
       "\n",
       "    .dataframe thead th {\n",
       "        text-align: right;\n",
       "    }\n",
       "</style>\n",
       "<table border=\"1\" class=\"dataframe\">\n",
       "  <thead>\n",
       "    <tr style=\"text-align: right;\">\n",
       "      <th></th>\n",
       "      <th>Transaction_Month</th>\n",
       "      <th>Total_Sales</th>\n",
       "      <th>Store_Type</th>\n",
       "    </tr>\n",
       "  </thead>\n",
       "  <tbody>\n",
       "    <tr>\n",
       "      <th>0</th>\n",
       "      <td>201807</td>\n",
       "      <td>1448.4</td>\n",
       "      <td>Control_Store</td>\n",
       "    </tr>\n",
       "    <tr>\n",
       "      <th>1</th>\n",
       "      <td>201808</td>\n",
       "      <td>1367.8</td>\n",
       "      <td>Control_Store</td>\n",
       "    </tr>\n",
       "    <tr>\n",
       "      <th>2</th>\n",
       "      <td>201809</td>\n",
       "      <td>1322.2</td>\n",
       "      <td>Control_Store</td>\n",
       "    </tr>\n",
       "    <tr>\n",
       "      <th>3</th>\n",
       "      <td>201810</td>\n",
       "      <td>1348.3</td>\n",
       "      <td>Control_Store</td>\n",
       "    </tr>\n",
       "    <tr>\n",
       "      <th>4</th>\n",
       "      <td>201811</td>\n",
       "      <td>1397.6</td>\n",
       "      <td>Control_Store</td>\n",
       "    </tr>\n",
       "  </tbody>\n",
       "</table>\n",
       "</div>"
      ],
      "text/plain": [
       "   Transaction_Month  Total_Sales     Store_Type\n",
       "0             201807       1448.4  Control_Store\n",
       "1             201808       1367.8  Control_Store\n",
       "2             201809       1322.2  Control_Store\n",
       "3             201810       1348.3  Control_Store\n",
       "4             201811       1397.6  Control_Store"
      ]
     },
     "execution_count": 101,
     "metadata": {},
     "output_type": "execute_result"
    }
   ],
   "source": [
    "newName = \"Total_Sales\"\n",
    "# Data of CONTROL STORE\n",
    "tmp_Controldf = controlStoredata.reset_index()\n",
    "tmp_Controldf = tmp_Controldf[['MONTH_ID',columnName]]\n",
    "tmp_Controldf['Store_Type']=\"Control_Store\"\n",
    "tmp_Controldf.rename(columns={'MONTH_ID':\"Transaction_Month\",columnName:newName},inplace=True)\n",
    "tmp_Controldf.head()"
   ]
  },
  {
   "cell_type": "code",
   "execution_count": 102,
   "metadata": {},
   "outputs": [
    {
     "data": {
      "text/html": [
       "<div>\n",
       "<style scoped>\n",
       "    .dataframe tbody tr th:only-of-type {\n",
       "        vertical-align: middle;\n",
       "    }\n",
       "\n",
       "    .dataframe tbody tr th {\n",
       "        vertical-align: top;\n",
       "    }\n",
       "\n",
       "    .dataframe thead th {\n",
       "        text-align: right;\n",
       "    }\n",
       "</style>\n",
       "<table border=\"1\" class=\"dataframe\">\n",
       "  <thead>\n",
       "    <tr style=\"text-align: right;\">\n",
       "      <th></th>\n",
       "      <th>Transaction_Month</th>\n",
       "      <th>Total_Sales</th>\n",
       "      <th>Store_Type</th>\n",
       "    </tr>\n",
       "  </thead>\n",
       "  <tbody>\n",
       "    <tr>\n",
       "      <th>0</th>\n",
       "      <td>201807</td>\n",
       "      <td>1310.0</td>\n",
       "      <td>Trial_Store</td>\n",
       "    </tr>\n",
       "    <tr>\n",
       "      <th>1</th>\n",
       "      <td>201808</td>\n",
       "      <td>1323.8</td>\n",
       "      <td>Trial_Store</td>\n",
       "    </tr>\n",
       "    <tr>\n",
       "      <th>2</th>\n",
       "      <td>201809</td>\n",
       "      <td>1423.0</td>\n",
       "      <td>Trial_Store</td>\n",
       "    </tr>\n",
       "    <tr>\n",
       "      <th>3</th>\n",
       "      <td>201810</td>\n",
       "      <td>1352.4</td>\n",
       "      <td>Trial_Store</td>\n",
       "    </tr>\n",
       "    <tr>\n",
       "      <th>4</th>\n",
       "      <td>201811</td>\n",
       "      <td>1382.8</td>\n",
       "      <td>Trial_Store</td>\n",
       "    </tr>\n",
       "  </tbody>\n",
       "</table>\n",
       "</div>"
      ],
      "text/plain": [
       "   Transaction_Month  Total_Sales   Store_Type\n",
       "0             201807       1310.0  Trial_Store\n",
       "1             201808       1323.8  Trial_Store\n",
       "2             201809       1423.0  Trial_Store\n",
       "3             201810       1352.4  Trial_Store\n",
       "4             201811       1382.8  Trial_Store"
      ]
     },
     "execution_count": 102,
     "metadata": {},
     "output_type": "execute_result"
    }
   ],
   "source": [
    "# Data of TRIAL STORE\n",
    "tmp_Trialdf = trialstoredata.reset_index()\n",
    "tmp_Trialdf = tmp_Trialdf[['MONTH_ID',columnName]]\n",
    "tmp_Trialdf['Store_Type']=\"Trial_Store\"\n",
    "tmp_Trialdf.rename(columns={'MONTH_ID':\"Transaction_Month\",columnName:newName},inplace=True)\n",
    "tmp_Trialdf.head()"
   ]
  },
  {
   "cell_type": "code",
   "execution_count": 103,
   "metadata": {},
   "outputs": [
    {
     "data": {
      "text/html": [
       "<div>\n",
       "<style scoped>\n",
       "    .dataframe tbody tr th:only-of-type {\n",
       "        vertical-align: middle;\n",
       "    }\n",
       "\n",
       "    .dataframe tbody tr th {\n",
       "        vertical-align: top;\n",
       "    }\n",
       "\n",
       "    .dataframe thead th {\n",
       "        text-align: right;\n",
       "    }\n",
       "</style>\n",
       "<table border=\"1\" class=\"dataframe\">\n",
       "  <thead>\n",
       "    <tr style=\"text-align: right;\">\n",
       "      <th></th>\n",
       "      <th>Transaction_Month</th>\n",
       "      <th>Total_Sales</th>\n",
       "      <th>Store_Type</th>\n",
       "    </tr>\n",
       "  </thead>\n",
       "  <tbody>\n",
       "    <tr>\n",
       "      <th>0</th>\n",
       "      <td>201807</td>\n",
       "      <td>1441.7064</td>\n",
       "      <td>Control 5 % Confidence</td>\n",
       "    </tr>\n",
       "    <tr>\n",
       "      <th>1</th>\n",
       "      <td>201808</td>\n",
       "      <td>1361.1064</td>\n",
       "      <td>Control 5 % Confidence</td>\n",
       "    </tr>\n",
       "    <tr>\n",
       "      <th>2</th>\n",
       "      <td>201809</td>\n",
       "      <td>1315.5064</td>\n",
       "      <td>Control 5 % Confidence</td>\n",
       "    </tr>\n",
       "    <tr>\n",
       "      <th>3</th>\n",
       "      <td>201810</td>\n",
       "      <td>1341.6064</td>\n",
       "      <td>Control 5 % Confidence</td>\n",
       "    </tr>\n",
       "    <tr>\n",
       "      <th>4</th>\n",
       "      <td>201811</td>\n",
       "      <td>1390.9064</td>\n",
       "      <td>Control 5 % Confidence</td>\n",
       "    </tr>\n",
       "  </tbody>\n",
       "</table>\n",
       "</div>"
      ],
      "text/plain": [
       "   Transaction_Month  Total_Sales              Store_Type\n",
       "0             201807    1441.7064  Control 5 % Confidence\n",
       "1             201808    1361.1064  Control 5 % Confidence\n",
       "2             201809    1315.5064  Control 5 % Confidence\n",
       "3             201810    1341.6064  Control 5 % Confidence\n",
       "4             201811    1390.9064  Control 5 % Confidence"
      ]
     },
     "execution_count": 103,
     "metadata": {},
     "output_type": "execute_result"
    }
   ],
   "source": [
    "# Data of CONTROL store with 5% confidence\n",
    "pastSales_Control05 = tmp_Controldf.copy()\n",
    "pastSales_Control05[newName] = pastSales_Control05[newName]  - (stdDev*2)\n",
    "pastSales_Control05['Store_Type'] = \"Control 5 % Confidence\"\n",
    "pastSales_Control05.head()"
   ]
  },
  {
   "cell_type": "code",
   "execution_count": 104,
   "metadata": {},
   "outputs": [
    {
     "data": {
      "text/html": [
       "<div>\n",
       "<style scoped>\n",
       "    .dataframe tbody tr th:only-of-type {\n",
       "        vertical-align: middle;\n",
       "    }\n",
       "\n",
       "    .dataframe tbody tr th {\n",
       "        vertical-align: top;\n",
       "    }\n",
       "\n",
       "    .dataframe thead th {\n",
       "        text-align: right;\n",
       "    }\n",
       "</style>\n",
       "<table border=\"1\" class=\"dataframe\">\n",
       "  <thead>\n",
       "    <tr style=\"text-align: right;\">\n",
       "      <th></th>\n",
       "      <th>Transaction_Month</th>\n",
       "      <th>Total_Sales</th>\n",
       "      <th>Store_Type</th>\n",
       "    </tr>\n",
       "  </thead>\n",
       "  <tbody>\n",
       "    <tr>\n",
       "      <th>0</th>\n",
       "      <td>201807</td>\n",
       "      <td>1455.0936</td>\n",
       "      <td>Control 95 % Confidence</td>\n",
       "    </tr>\n",
       "    <tr>\n",
       "      <th>1</th>\n",
       "      <td>201808</td>\n",
       "      <td>1374.4936</td>\n",
       "      <td>Control 95 % Confidence</td>\n",
       "    </tr>\n",
       "    <tr>\n",
       "      <th>2</th>\n",
       "      <td>201809</td>\n",
       "      <td>1328.8936</td>\n",
       "      <td>Control 95 % Confidence</td>\n",
       "    </tr>\n",
       "    <tr>\n",
       "      <th>3</th>\n",
       "      <td>201810</td>\n",
       "      <td>1354.9936</td>\n",
       "      <td>Control 95 % Confidence</td>\n",
       "    </tr>\n",
       "    <tr>\n",
       "      <th>4</th>\n",
       "      <td>201811</td>\n",
       "      <td>1404.2936</td>\n",
       "      <td>Control 95 % Confidence</td>\n",
       "    </tr>\n",
       "  </tbody>\n",
       "</table>\n",
       "</div>"
      ],
      "text/plain": [
       "   Transaction_Month  Total_Sales               Store_Type\n",
       "0             201807    1455.0936  Control 95 % Confidence\n",
       "1             201808    1374.4936  Control 95 % Confidence\n",
       "2             201809    1328.8936  Control 95 % Confidence\n",
       "3             201810    1354.9936  Control 95 % Confidence\n",
       "4             201811    1404.2936  Control 95 % Confidence"
      ]
     },
     "execution_count": 104,
     "metadata": {},
     "output_type": "execute_result"
    }
   ],
   "source": [
    "# Data of CONTROL store with 95% confidence\n",
    "pastSales_Control95 = tmp_Controldf.copy()\n",
    "pastSales_Control95[newName] = pastSales_Control95[newName]  + (stdDev*2)\n",
    "pastSales_Control95['Store_Type'] = \"Control 95 % Confidence\"\n",
    "pastSales_Control95.head()"
   ]
  },
  {
   "cell_type": "code",
   "execution_count": 105,
   "metadata": {},
   "outputs": [
    {
     "name": "stdout",
     "output_type": "stream",
     "text": [
      "<class 'pandas.core.frame.DataFrame'>\n",
      "RangeIndex: 48 entries, 0 to 47\n",
      "Data columns (total 3 columns):\n",
      " #   Column             Non-Null Count  Dtype  \n",
      "---  ------             --------------  -----  \n",
      " 0   Store_Type         48 non-null     object \n",
      " 1   Total_Sales        48 non-null     float64\n",
      " 2   Transaction_Month  48 non-null     object \n",
      "dtypes: float64(1), object(2)\n",
      "memory usage: 1.2+ KB\n"
     ]
    }
   ],
   "source": [
    "# Merging all data into one dataframe\n",
    "pastSales = pd.DataFrame(columns=['Store_Type',newName,'Transaction_Month'])\n",
    "pastSales = pd.concat([pastSales,pastSales_Control05,tmp_Trialdf,tmp_Controldf,pastSales_Control95])\n",
    "pastSales.reset_index(inplace = True)\n",
    "pastSales.drop('index',axis=1,inplace=True)\n",
    "pastSales.info()"
   ]
  },
  {
   "cell_type": "code",
   "execution_count": 106,
   "metadata": {},
   "outputs": [
    {
     "data": {
      "text/html": [
       "<div>\n",
       "<style scoped>\n",
       "    .dataframe tbody tr th:only-of-type {\n",
       "        vertical-align: middle;\n",
       "    }\n",
       "\n",
       "    .dataframe tbody tr th {\n",
       "        vertical-align: top;\n",
       "    }\n",
       "\n",
       "    .dataframe thead th {\n",
       "        text-align: right;\n",
       "    }\n",
       "</style>\n",
       "<table border=\"1\" class=\"dataframe\">\n",
       "  <thead>\n",
       "    <tr style=\"text-align: right;\">\n",
       "      <th></th>\n",
       "      <th>Store_Type</th>\n",
       "      <th>Total_Sales</th>\n",
       "      <th>Transaction_Month</th>\n",
       "    </tr>\n",
       "  </thead>\n",
       "  <tbody>\n",
       "    <tr>\n",
       "      <th>7</th>\n",
       "      <td>Control 5 % Confidence</td>\n",
       "      <td>1398.1064</td>\n",
       "      <td>201902</td>\n",
       "    </tr>\n",
       "    <tr>\n",
       "      <th>8</th>\n",
       "      <td>Control 5 % Confidence</td>\n",
       "      <td>1201.5064</td>\n",
       "      <td>201903</td>\n",
       "    </tr>\n",
       "    <tr>\n",
       "      <th>9</th>\n",
       "      <td>Control 5 % Confidence</td>\n",
       "      <td>1197.9064</td>\n",
       "      <td>201904</td>\n",
       "    </tr>\n",
       "    <tr>\n",
       "      <th>19</th>\n",
       "      <td>Trial_Store</td>\n",
       "      <td>1370.2000</td>\n",
       "      <td>201902</td>\n",
       "    </tr>\n",
       "    <tr>\n",
       "      <th>20</th>\n",
       "      <td>Trial_Store</td>\n",
       "      <td>1477.2000</td>\n",
       "      <td>201903</td>\n",
       "    </tr>\n",
       "    <tr>\n",
       "      <th>21</th>\n",
       "      <td>Trial_Store</td>\n",
       "      <td>1439.4000</td>\n",
       "      <td>201904</td>\n",
       "    </tr>\n",
       "    <tr>\n",
       "      <th>31</th>\n",
       "      <td>Control_Store</td>\n",
       "      <td>1404.8000</td>\n",
       "      <td>201902</td>\n",
       "    </tr>\n",
       "    <tr>\n",
       "      <th>32</th>\n",
       "      <td>Control_Store</td>\n",
       "      <td>1208.2000</td>\n",
       "      <td>201903</td>\n",
       "    </tr>\n",
       "    <tr>\n",
       "      <th>33</th>\n",
       "      <td>Control_Store</td>\n",
       "      <td>1204.6000</td>\n",
       "      <td>201904</td>\n",
       "    </tr>\n",
       "    <tr>\n",
       "      <th>43</th>\n",
       "      <td>Control 95 % Confidence</td>\n",
       "      <td>1411.4936</td>\n",
       "      <td>201902</td>\n",
       "    </tr>\n",
       "    <tr>\n",
       "      <th>44</th>\n",
       "      <td>Control 95 % Confidence</td>\n",
       "      <td>1214.8936</td>\n",
       "      <td>201903</td>\n",
       "    </tr>\n",
       "    <tr>\n",
       "      <th>45</th>\n",
       "      <td>Control 95 % Confidence</td>\n",
       "      <td>1211.2936</td>\n",
       "      <td>201904</td>\n",
       "    </tr>\n",
       "  </tbody>\n",
       "</table>\n",
       "</div>"
      ],
      "text/plain": [
       "                 Store_Type  Total_Sales Transaction_Month\n",
       "7    Control 5 % Confidence    1398.1064            201902\n",
       "8    Control 5 % Confidence    1201.5064            201903\n",
       "9    Control 5 % Confidence    1197.9064            201904\n",
       "19              Trial_Store    1370.2000            201902\n",
       "20              Trial_Store    1477.2000            201903\n",
       "21              Trial_Store    1439.4000            201904\n",
       "31            Control_Store    1404.8000            201902\n",
       "32            Control_Store    1208.2000            201903\n",
       "33            Control_Store    1204.6000            201904\n",
       "43  Control 95 % Confidence    1411.4936            201902\n",
       "44  Control 95 % Confidence    1214.8936            201903\n",
       "45  Control 95 % Confidence    1211.2936            201904"
      ]
     },
     "execution_count": 106,
     "metadata": {},
     "output_type": "execute_result"
    }
   ],
   "source": [
    "trialPeriodSales = pastSales[(pastSales['Transaction_Month']<201905) & (pastSales['Transaction_Month']>201901)]\n",
    "trialPeriodSales"
   ]
  },
  {
   "cell_type": "code",
   "execution_count": 108,
   "metadata": {},
   "outputs": [],
   "source": [
    "#Deleting temporary dataframes\n",
    "del pastSales_Control05\n",
    "del pastSales_Control95\n",
    "del tmp_Controldf\n",
    "del tmp_Trialdf"
   ]
  },
  {
   "cell_type": "code",
   "execution_count": 109,
   "metadata": {},
   "outputs": [
    {
     "data": {
      "text/plain": [
       "<matplotlib.legend.Legend at 0x2923920fb00>"
      ]
     },
     "execution_count": 109,
     "metadata": {},
     "output_type": "execute_result"
    },
    {
     "data": {
      "image/png": "[encoded data removed]",
      "text/plain": [
       "<Figure size 800x300 with 1 Axes>"
      ]
     },
     "metadata": {
      "needs_background": "light"
     },
     "output_type": "display_data"
    }
   ],
   "source": [
    "fig =plt.figure(figsize=(8,3),dpi=100)\n",
    "ax = fig.add_axes([0,0,1,1])\n",
    "sns.barplot(y=newName,x='Transaction_Month',hue='Store_Type',data=trialPeriodSales)\n",
    "plt.legend(loc='center left', bbox_to_anchor=(1.0, 0.5))"
   ]
  },
  {
   "cell_type": "markdown",
   "metadata": {},
   "source": [
    "#### The results show that the trial in store 88 is significantly different to its control store in the trial period as the trial store performance lies outside of the 5% to 95% confidence interval of the control store in two of the three trial months.\n",
    "___"
   ]
  },
  {
   "cell_type": "markdown",
   "metadata": {},
   "source": [
    "### Customers of Store-88"
   ]
  },
  {
   "cell_type": "code",
   "execution_count": 110,
   "metadata": {},
   "outputs": [],
   "source": [
    "columnName = 'TOTAL_CUSTOMERS'"
   ]
  },
  {
   "cell_type": "code",
   "execution_count": 111,
   "metadata": {},
   "outputs": [
    {
     "data": {
      "text/plain": [
       "0.9943502824858758"
      ]
     },
     "execution_count": 111,
     "metadata": {},
     "output_type": "execute_result"
    }
   ],
   "source": [
    "scalingFactor = calcScalingFactor(TrialStoreNo,ControlStoreNo,columnName)\n",
    "scalingFactor"
   ]
  },
  {
   "cell_type": "code",
   "execution_count": 112,
   "metadata": {},
   "outputs": [],
   "source": [
    "#Making data frames to be used later\n",
    "controlStoredata = allTimeData.loc[ControlStoreNo].copy()\n",
    "trialstoredata = allTimeData.loc[TrialStoreNo].copy()"
   ]
  },
  {
   "cell_type": "code",
   "execution_count": 113,
   "metadata": {},
   "outputs": [
    {
     "data": {
      "text/html": [
       "<div>\n",
       "<style scoped>\n",
       "    .dataframe tbody tr th:only-of-type {\n",
       "        vertical-align: middle;\n",
       "    }\n",
       "\n",
       "    .dataframe tbody tr th {\n",
       "        vertical-align: top;\n",
       "    }\n",
       "\n",
       "    .dataframe thead th {\n",
       "        text-align: right;\n",
       "    }\n",
       "</style>\n",
       "<table border=\"1\" class=\"dataframe\">\n",
       "  <thead>\n",
       "    <tr style=\"text-align: right;\">\n",
       "      <th></th>\n",
       "      <th>TOTAL_CUSTOMERS</th>\n",
       "    </tr>\n",
       "    <tr>\n",
       "      <th>MONTH_ID</th>\n",
       "      <th></th>\n",
       "    </tr>\n",
       "  </thead>\n",
       "  <tbody>\n",
       "    <tr>\n",
       "      <th>201807</th>\n",
       "      <td>127.276836</td>\n",
       "    </tr>\n",
       "    <tr>\n",
       "      <th>201808</th>\n",
       "      <td>134.237288</td>\n",
       "    </tr>\n",
       "    <tr>\n",
       "      <th>201809</th>\n",
       "      <td>125.288136</td>\n",
       "    </tr>\n",
       "    <tr>\n",
       "      <th>201810</th>\n",
       "      <td>122.305085</td>\n",
       "    </tr>\n",
       "    <tr>\n",
       "      <th>201811</th>\n",
       "      <td>131.254237</td>\n",
       "    </tr>\n",
       "  </tbody>\n",
       "</table>\n",
       "</div>"
      ],
      "text/plain": [
       "          TOTAL_CUSTOMERS\n",
       "MONTH_ID                 \n",
       "201807         127.276836\n",
       "201808         134.237288\n",
       "201809         125.288136\n",
       "201810         122.305085\n",
       "201811         131.254237"
      ]
     },
     "execution_count": 113,
     "metadata": {},
     "output_type": "execute_result"
    }
   ],
   "source": [
    "#After scaling\n",
    "scaleddata=controlStoredata[[columnName]]*scalingFactor\n",
    "scaleddata.head()"
   ]
  },
  {
   "cell_type": "code",
   "execution_count": 114,
   "metadata": {},
   "outputs": [
    {
     "data": {
      "text/html": [
       "<div>\n",
       "<style scoped>\n",
       "    .dataframe tbody tr th:only-of-type {\n",
       "        vertical-align: middle;\n",
       "    }\n",
       "\n",
       "    .dataframe tbody tr th {\n",
       "        vertical-align: top;\n",
       "    }\n",
       "\n",
       "    .dataframe thead th {\n",
       "        text-align: right;\n",
       "    }\n",
       "</style>\n",
       "<table border=\"1\" class=\"dataframe\">\n",
       "  <thead>\n",
       "    <tr style=\"text-align: right;\">\n",
       "      <th></th>\n",
       "      <th>TOTAL_CUSTOMERS</th>\n",
       "    </tr>\n",
       "    <tr>\n",
       "      <th>MONTH_ID</th>\n",
       "      <th></th>\n",
       "    </tr>\n",
       "  </thead>\n",
       "  <tbody>\n",
       "    <tr>\n",
       "      <th>201807</th>\n",
       "      <td>1.353871</td>\n",
       "    </tr>\n",
       "    <tr>\n",
       "      <th>201808</th>\n",
       "      <td>2.411616</td>\n",
       "    </tr>\n",
       "    <tr>\n",
       "      <th>201809</th>\n",
       "      <td>1.028139</td>\n",
       "    </tr>\n",
       "    <tr>\n",
       "      <th>201810</th>\n",
       "      <td>0.568182</td>\n",
       "    </tr>\n",
       "    <tr>\n",
       "      <th>201811</th>\n",
       "      <td>0.955579</td>\n",
       "    </tr>\n",
       "  </tbody>\n",
       "</table>\n",
       "</div>"
      ],
      "text/plain": [
       "          TOTAL_CUSTOMERS\n",
       "MONTH_ID                 \n",
       "201807           1.353871\n",
       "201808           2.411616\n",
       "201809           1.028139\n",
       "201810           0.568182\n",
       "201811           0.955579"
      ]
     },
     "execution_count": 114,
     "metadata": {},
     "output_type": "execute_result"
    }
   ],
   "source": [
    "percentDiff_Sales = abs(scaleddata[[columnName]]-trialstoredata[[columnName]])*100/scaleddata[[columnName]]\n",
    "percentDiff_Sales.head()"
   ]
  },
  {
   "cell_type": "code",
   "execution_count": 115,
   "metadata": {},
   "outputs": [
    {
     "name": "stdout",
     "output_type": "stream",
     "text": [
      "Mean of scaled control store = 120.98\n",
      "Mean of Trial store = 128.67\n",
      "Standard deviation of data = 0.741\n"
     ]
    }
   ],
   "source": [
    "#Finding means and std. deviation\n",
    "meanControl = scaleddata.loc[201902:201904].copy()\n",
    "m_Cont = meanControl[columnName].mean()\n",
    "m_Cont = round(m_Cont,2)\n",
    "\n",
    "meanTrial = trialstoredata.loc[201902:201904].copy()\n",
    "m_Trial = meanTrial[columnName].mean()\n",
    "m_Trial = round(m_Trial,2)\n",
    "\n",
    "stdDev = (percentDiff_Sales.loc[:201901]).std()\n",
    "stdDev = stdDev[columnName]\n",
    "stdDev = round(stdDev,4)\n",
    "\n",
    "print(\"Mean of scaled control store = {}\".format(m_Cont))\n",
    "print(\"Mean of Trial store = {}\".format(m_Trial))\n",
    "print(\"Standard deviation of data = {}\".format(stdDev))"
   ]
  },
  {
   "cell_type": "code",
   "execution_count": 116,
   "metadata": {},
   "outputs": [
    {
     "name": "stdout",
     "output_type": "stream",
     "text": [
      "t-statistic = 10.3779\n",
      "t-critical = 1.8946\n"
     ]
    }
   ],
   "source": [
    "# Performing t-test for alpha=0.05\n",
    "from scipy.stats import t\n",
    "#Calculating t-statistic\n",
    "t_stat = abs(m_Cont-m_Trial)/stdDev\n",
    "t_stat = round(t_stat,4)\n",
    "#Calculating critical t-value\n",
    "alpha=0.05\n",
    "degree = 8-1\n",
    "cv_t = t.ppf(1-alpha, degree)\n",
    "cv_t = round(cv_t,4)\n",
    "print(\"t-statistic = {}\".format(t_stat))\n",
    "print(\"t-critical = {}\".format(cv_t))"
   ]
  },
  {
   "cell_type": "code",
   "execution_count": 117,
   "metadata": {},
   "outputs": [
    {
     "data": {
      "text/html": [
       "<div>\n",
       "<style scoped>\n",
       "    .dataframe tbody tr th:only-of-type {\n",
       "        vertical-align: middle;\n",
       "    }\n",
       "\n",
       "    .dataframe tbody tr th {\n",
       "        vertical-align: top;\n",
       "    }\n",
       "\n",
       "    .dataframe thead th {\n",
       "        text-align: right;\n",
       "    }\n",
       "</style>\n",
       "<table border=\"1\" class=\"dataframe\">\n",
       "  <thead>\n",
       "    <tr style=\"text-align: right;\">\n",
       "      <th></th>\n",
       "      <th>Transaction_Month</th>\n",
       "      <th>Total_Customers</th>\n",
       "      <th>Store_Type</th>\n",
       "    </tr>\n",
       "  </thead>\n",
       "  <tbody>\n",
       "    <tr>\n",
       "      <th>0</th>\n",
       "      <td>201807</td>\n",
       "      <td>128</td>\n",
       "      <td>Control_Store</td>\n",
       "    </tr>\n",
       "    <tr>\n",
       "      <th>1</th>\n",
       "      <td>201808</td>\n",
       "      <td>135</td>\n",
       "      <td>Control_Store</td>\n",
       "    </tr>\n",
       "    <tr>\n",
       "      <th>2</th>\n",
       "      <td>201809</td>\n",
       "      <td>126</td>\n",
       "      <td>Control_Store</td>\n",
       "    </tr>\n",
       "    <tr>\n",
       "      <th>3</th>\n",
       "      <td>201810</td>\n",
       "      <td>123</td>\n",
       "      <td>Control_Store</td>\n",
       "    </tr>\n",
       "    <tr>\n",
       "      <th>4</th>\n",
       "      <td>201811</td>\n",
       "      <td>132</td>\n",
       "      <td>Control_Store</td>\n",
       "    </tr>\n",
       "  </tbody>\n",
       "</table>\n",
       "</div>"
      ],
      "text/plain": [
       "   Transaction_Month  Total_Customers     Store_Type\n",
       "0             201807              128  Control_Store\n",
       "1             201808              135  Control_Store\n",
       "2             201809              126  Control_Store\n",
       "3             201810              123  Control_Store\n",
       "4             201811              132  Control_Store"
      ]
     },
     "execution_count": 117,
     "metadata": {},
     "output_type": "execute_result"
    }
   ],
   "source": [
    "# To visualize data\n",
    "newName = \"Total_Customers\"\n",
    "# Data of CONTROL STORE\n",
    "tmp_Controldf = controlStoredata.reset_index()\n",
    "tmp_Controldf = tmp_Controldf[['MONTH_ID',columnName]]\n",
    "tmp_Controldf['Store_Type']=\"Control_Store\"\n",
    "tmp_Controldf.rename(columns={'MONTH_ID':\"Transaction_Month\",columnName:newName},inplace=True)\n",
    "tmp_Controldf.head()"
   ]
  },
  {
   "cell_type": "code",
   "execution_count": 118,
   "metadata": {},
   "outputs": [
    {
     "data": {
      "text/html": [
       "<div>\n",
       "<style scoped>\n",
       "    .dataframe tbody tr th:only-of-type {\n",
       "        vertical-align: middle;\n",
       "    }\n",
       "\n",
       "    .dataframe tbody tr th {\n",
       "        vertical-align: top;\n",
       "    }\n",
       "\n",
       "    .dataframe thead th {\n",
       "        text-align: right;\n",
       "    }\n",
       "</style>\n",
       "<table border=\"1\" class=\"dataframe\">\n",
       "  <thead>\n",
       "    <tr style=\"text-align: right;\">\n",
       "      <th></th>\n",
       "      <th>Transaction_Month</th>\n",
       "      <th>Total_Customers</th>\n",
       "      <th>Store_Type</th>\n",
       "    </tr>\n",
       "  </thead>\n",
       "  <tbody>\n",
       "    <tr>\n",
       "      <th>0</th>\n",
       "      <td>201807</td>\n",
       "      <td>129</td>\n",
       "      <td>Trial_Store</td>\n",
       "    </tr>\n",
       "    <tr>\n",
       "      <th>1</th>\n",
       "      <td>201808</td>\n",
       "      <td>131</td>\n",
       "      <td>Trial_Store</td>\n",
       "    </tr>\n",
       "    <tr>\n",
       "      <th>2</th>\n",
       "      <td>201809</td>\n",
       "      <td>124</td>\n",
       "      <td>Trial_Store</td>\n",
       "    </tr>\n",
       "    <tr>\n",
       "      <th>3</th>\n",
       "      <td>201810</td>\n",
       "      <td>123</td>\n",
       "      <td>Trial_Store</td>\n",
       "    </tr>\n",
       "    <tr>\n",
       "      <th>4</th>\n",
       "      <td>201811</td>\n",
       "      <td>130</td>\n",
       "      <td>Trial_Store</td>\n",
       "    </tr>\n",
       "  </tbody>\n",
       "</table>\n",
       "</div>"
      ],
      "text/plain": [
       "   Transaction_Month  Total_Customers   Store_Type\n",
       "0             201807              129  Trial_Store\n",
       "1             201808              131  Trial_Store\n",
       "2             201809              124  Trial_Store\n",
       "3             201810              123  Trial_Store\n",
       "4             201811              130  Trial_Store"
      ]
     },
     "execution_count": 118,
     "metadata": {},
     "output_type": "execute_result"
    }
   ],
   "source": [
    "# Data of TRIAL STORE\n",
    "tmp_Trialdf = trialstoredata.reset_index()\n",
    "tmp_Trialdf = tmp_Trialdf[['MONTH_ID',columnName]]\n",
    "tmp_Trialdf['Store_Type']=\"Trial_Store\"\n",
    "tmp_Trialdf.rename(columns={'MONTH_ID':\"Transaction_Month\",columnName:newName},inplace=True)\n",
    "tmp_Trialdf.head()"
   ]
  },
  {
   "cell_type": "code",
   "execution_count": 119,
   "metadata": {},
   "outputs": [
    {
     "data": {
      "text/html": [
       "<div>\n",
       "<style scoped>\n",
       "    .dataframe tbody tr th:only-of-type {\n",
       "        vertical-align: middle;\n",
       "    }\n",
       "\n",
       "    .dataframe tbody tr th {\n",
       "        vertical-align: top;\n",
       "    }\n",
       "\n",
       "    .dataframe thead th {\n",
       "        text-align: right;\n",
       "    }\n",
       "</style>\n",
       "<table border=\"1\" class=\"dataframe\">\n",
       "  <thead>\n",
       "    <tr style=\"text-align: right;\">\n",
       "      <th></th>\n",
       "      <th>Transaction_Month</th>\n",
       "      <th>Total_Customers</th>\n",
       "      <th>Store_Type</th>\n",
       "    </tr>\n",
       "  </thead>\n",
       "  <tbody>\n",
       "    <tr>\n",
       "      <th>0</th>\n",
       "      <td>201807</td>\n",
       "      <td>126.518</td>\n",
       "      <td>Control 5 % Confidence</td>\n",
       "    </tr>\n",
       "    <tr>\n",
       "      <th>1</th>\n",
       "      <td>201808</td>\n",
       "      <td>133.518</td>\n",
       "      <td>Control 5 % Confidence</td>\n",
       "    </tr>\n",
       "    <tr>\n",
       "      <th>2</th>\n",
       "      <td>201809</td>\n",
       "      <td>124.518</td>\n",
       "      <td>Control 5 % Confidence</td>\n",
       "    </tr>\n",
       "    <tr>\n",
       "      <th>3</th>\n",
       "      <td>201810</td>\n",
       "      <td>121.518</td>\n",
       "      <td>Control 5 % Confidence</td>\n",
       "    </tr>\n",
       "    <tr>\n",
       "      <th>4</th>\n",
       "      <td>201811</td>\n",
       "      <td>130.518</td>\n",
       "      <td>Control 5 % Confidence</td>\n",
       "    </tr>\n",
       "  </tbody>\n",
       "</table>\n",
       "</div>"
      ],
      "text/plain": [
       "   Transaction_Month  Total_Customers              Store_Type\n",
       "0             201807          126.518  Control 5 % Confidence\n",
       "1             201808          133.518  Control 5 % Confidence\n",
       "2             201809          124.518  Control 5 % Confidence\n",
       "3             201810          121.518  Control 5 % Confidence\n",
       "4             201811          130.518  Control 5 % Confidence"
      ]
     },
     "execution_count": 119,
     "metadata": {},
     "output_type": "execute_result"
    }
   ],
   "source": [
    "# Data of CONTROL store with 5% confidence\n",
    "pastSales_Control05 = tmp_Controldf.copy()\n",
    "pastSales_Control05[newName] = pastSales_Control05[newName]  - (stdDev*2)\n",
    "pastSales_Control05['Store_Type'] = \"Control 5 % Confidence\"\n",
    "pastSales_Control05.head()"
   ]
  },
  {
   "cell_type": "code",
   "execution_count": 120,
   "metadata": {},
   "outputs": [
    {
     "data": {
      "text/html": [
       "<div>\n",
       "<style scoped>\n",
       "    .dataframe tbody tr th:only-of-type {\n",
       "        vertical-align: middle;\n",
       "    }\n",
       "\n",
       "    .dataframe tbody tr th {\n",
       "        vertical-align: top;\n",
       "    }\n",
       "\n",
       "    .dataframe thead th {\n",
       "        text-align: right;\n",
       "    }\n",
       "</style>\n",
       "<table border=\"1\" class=\"dataframe\">\n",
       "  <thead>\n",
       "    <tr style=\"text-align: right;\">\n",
       "      <th></th>\n",
       "      <th>Transaction_Month</th>\n",
       "      <th>Total_Customers</th>\n",
       "      <th>Store_Type</th>\n",
       "    </tr>\n",
       "  </thead>\n",
       "  <tbody>\n",
       "    <tr>\n",
       "      <th>0</th>\n",
       "      <td>201807</td>\n",
       "      <td>129.482</td>\n",
       "      <td>Control 95 % Confidence</td>\n",
       "    </tr>\n",
       "    <tr>\n",
       "      <th>1</th>\n",
       "      <td>201808</td>\n",
       "      <td>136.482</td>\n",
       "      <td>Control 95 % Confidence</td>\n",
       "    </tr>\n",
       "    <tr>\n",
       "      <th>2</th>\n",
       "      <td>201809</td>\n",
       "      <td>127.482</td>\n",
       "      <td>Control 95 % Confidence</td>\n",
       "    </tr>\n",
       "    <tr>\n",
       "      <th>3</th>\n",
       "      <td>201810</td>\n",
       "      <td>124.482</td>\n",
       "      <td>Control 95 % Confidence</td>\n",
       "    </tr>\n",
       "    <tr>\n",
       "      <th>4</th>\n",
       "      <td>201811</td>\n",
       "      <td>133.482</td>\n",
       "      <td>Control 95 % Confidence</td>\n",
       "    </tr>\n",
       "  </tbody>\n",
       "</table>\n",
       "</div>"
      ],
      "text/plain": [
       "   Transaction_Month  Total_Customers               Store_Type\n",
       "0             201807          129.482  Control 95 % Confidence\n",
       "1             201808          136.482  Control 95 % Confidence\n",
       "2             201809          127.482  Control 95 % Confidence\n",
       "3             201810          124.482  Control 95 % Confidence\n",
       "4             201811          133.482  Control 95 % Confidence"
      ]
     },
     "execution_count": 120,
     "metadata": {},
     "output_type": "execute_result"
    }
   ],
   "source": [
    "# Data of CONTROL store with 95% confidence\n",
    "pastSales_Control95 = tmp_Controldf.copy()\n",
    "pastSales_Control95[newName] = pastSales_Control95[newName]  + (stdDev*2)\n",
    "pastSales_Control95['Store_Type'] = \"Control 95 % Confidence\"\n",
    "pastSales_Control95.head()"
   ]
  },
  {
   "cell_type": "code",
   "execution_count": 121,
   "metadata": {},
   "outputs": [
    {
     "name": "stdout",
     "output_type": "stream",
     "text": [
      "<class 'pandas.core.frame.DataFrame'>\n",
      "RangeIndex: 48 entries, 0 to 47\n",
      "Data columns (total 3 columns):\n",
      " #   Column             Non-Null Count  Dtype  \n",
      "---  ------             --------------  -----  \n",
      " 0   Store_Type         48 non-null     object \n",
      " 1   Total_Customers    48 non-null     float64\n",
      " 2   Transaction_Month  48 non-null     object \n",
      "dtypes: float64(1), object(2)\n",
      "memory usage: 1.2+ KB\n"
     ]
    }
   ],
   "source": [
    "# Merging all data into one dataframe\n",
    "pastSales = pd.DataFrame(columns=['Store_Type',newName,'Transaction_Month'])\n",
    "pastSales = pd.concat([pastSales,pastSales_Control05,tmp_Trialdf,tmp_Controldf,pastSales_Control95])\n",
    "pastSales.reset_index(inplace = True)\n",
    "pastSales.drop('index',axis=1,inplace=True)\n",
    "pastSales.info()"
   ]
  },
  {
   "cell_type": "code",
   "execution_count": 122,
   "metadata": {},
   "outputs": [
    {
     "data": {
      "text/html": [
       "<div>\n",
       "<style scoped>\n",
       "    .dataframe tbody tr th:only-of-type {\n",
       "        vertical-align: middle;\n",
       "    }\n",
       "\n",
       "    .dataframe tbody tr th {\n",
       "        vertical-align: top;\n",
       "    }\n",
       "\n",
       "    .dataframe thead th {\n",
       "        text-align: right;\n",
       "    }\n",
       "</style>\n",
       "<table border=\"1\" class=\"dataframe\">\n",
       "  <thead>\n",
       "    <tr style=\"text-align: right;\">\n",
       "      <th></th>\n",
       "      <th>Store_Type</th>\n",
       "      <th>Total_Customers</th>\n",
       "      <th>Transaction_Month</th>\n",
       "    </tr>\n",
       "  </thead>\n",
       "  <tbody>\n",
       "    <tr>\n",
       "      <th>7</th>\n",
       "      <td>Control 5 % Confidence</td>\n",
       "      <td>124.518</td>\n",
       "      <td>201902</td>\n",
       "    </tr>\n",
       "    <tr>\n",
       "      <th>8</th>\n",
       "      <td>Control 5 % Confidence</td>\n",
       "      <td>117.518</td>\n",
       "      <td>201903</td>\n",
       "    </tr>\n",
       "    <tr>\n",
       "      <th>9</th>\n",
       "      <td>Control 5 % Confidence</td>\n",
       "      <td>118.518</td>\n",
       "      <td>201904</td>\n",
       "    </tr>\n",
       "    <tr>\n",
       "      <th>19</th>\n",
       "      <td>Trial_Store</td>\n",
       "      <td>124.000</td>\n",
       "      <td>201902</td>\n",
       "    </tr>\n",
       "    <tr>\n",
       "      <th>20</th>\n",
       "      <td>Trial_Store</td>\n",
       "      <td>134.000</td>\n",
       "      <td>201903</td>\n",
       "    </tr>\n",
       "    <tr>\n",
       "      <th>21</th>\n",
       "      <td>Trial_Store</td>\n",
       "      <td>128.000</td>\n",
       "      <td>201904</td>\n",
       "    </tr>\n",
       "    <tr>\n",
       "      <th>31</th>\n",
       "      <td>Control_Store</td>\n",
       "      <td>126.000</td>\n",
       "      <td>201902</td>\n",
       "    </tr>\n",
       "    <tr>\n",
       "      <th>32</th>\n",
       "      <td>Control_Store</td>\n",
       "      <td>119.000</td>\n",
       "      <td>201903</td>\n",
       "    </tr>\n",
       "    <tr>\n",
       "      <th>33</th>\n",
       "      <td>Control_Store</td>\n",
       "      <td>120.000</td>\n",
       "      <td>201904</td>\n",
       "    </tr>\n",
       "    <tr>\n",
       "      <th>43</th>\n",
       "      <td>Control 95 % Confidence</td>\n",
       "      <td>127.482</td>\n",
       "      <td>201902</td>\n",
       "    </tr>\n",
       "    <tr>\n",
       "      <th>44</th>\n",
       "      <td>Control 95 % Confidence</td>\n",
       "      <td>120.482</td>\n",
       "      <td>201903</td>\n",
       "    </tr>\n",
       "    <tr>\n",
       "      <th>45</th>\n",
       "      <td>Control 95 % Confidence</td>\n",
       "      <td>121.482</td>\n",
       "      <td>201904</td>\n",
       "    </tr>\n",
       "  </tbody>\n",
       "</table>\n",
       "</div>"
      ],
      "text/plain": [
       "                 Store_Type  Total_Customers Transaction_Month\n",
       "7    Control 5 % Confidence          124.518            201902\n",
       "8    Control 5 % Confidence          117.518            201903\n",
       "9    Control 5 % Confidence          118.518            201904\n",
       "19              Trial_Store          124.000            201902\n",
       "20              Trial_Store          134.000            201903\n",
       "21              Trial_Store          128.000            201904\n",
       "31            Control_Store          126.000            201902\n",
       "32            Control_Store          119.000            201903\n",
       "33            Control_Store          120.000            201904\n",
       "43  Control 95 % Confidence          127.482            201902\n",
       "44  Control 95 % Confidence          120.482            201903\n",
       "45  Control 95 % Confidence          121.482            201904"
      ]
     },
     "execution_count": 122,
     "metadata": {},
     "output_type": "execute_result"
    }
   ],
   "source": [
    "trialPeriodSales = pastSales[(pastSales['Transaction_Month']<201905) & (pastSales['Transaction_Month']>201901)]\n",
    "trialPeriodSales"
   ]
  },
  {
   "cell_type": "code",
   "execution_count": 123,
   "metadata": {},
   "outputs": [],
   "source": [
    "#Deleting temporary dataframes\n",
    "del pastSales_Control05\n",
    "del pastSales_Control95\n",
    "del tmp_Controldf\n",
    "del tmp_Trialdf"
   ]
  },
  {
   "cell_type": "code",
   "execution_count": 124,
   "metadata": {},
   "outputs": [
    {
     "data": {
      "text/plain": [
       "<matplotlib.legend.Legend at 0x29239630898>"
      ]
     },
     "execution_count": 124,
     "metadata": {},
     "output_type": "execute_result"
    },
    {
     "data": {
      "image/png": "[encoded data removed]",
      "text/plain": [
       "<Figure size 800x300 with 1 Axes>"
      ]
     },
     "metadata": {
      "needs_background": "light"
     },
     "output_type": "display_data"
    }
   ],
   "source": [
    "fig =plt.figure(figsize=(8,3),dpi=100)\n",
    "ax = fig.add_axes([0,0,1,1])\n",
    "sns.barplot(y=newName,x='Transaction_Month',hue='Store_Type',data=trialPeriodSales)\n",
    "plt.legend(loc='center left', bbox_to_anchor=(1.0, 0.5))"
   ]
  },
  {
   "cell_type": "markdown",
   "metadata": {},
   "source": [
    "#### Total number of customers in the trial period for the trial store is significantly higher than the control store for two out of three months, which indicates a positive trial effect.\n",
    "___"
   ]
  },
  {
   "cell_type": "markdown",
   "metadata": {},
   "source": [
    "## Conclusion :--"
   ]
  },
  {
   "cell_type": "markdown",
   "metadata": {},
   "source": [
    "#### We've found control stores 233, 155, 237 for trial stores 77, 86 and 88 respectively.\n",
    "\n",
    "#### The results for trial stores 77 and 88 during the trial period show a significant difference in at least two of the three trial months but this is not the case for trial store 86. \n",
    "\n",
    "#### We can check with the client if the implementation of the trial was different in trial store 86 but overall, the trial shows a significant increase in sales."
   ]
  }
 ],
 "metadata": {
  "kernelspec": {
   "display_name": "Python 3",
   "language": "python",
   "name": "python3"
  },
  "language_info": {
   "codemirror_mode": {
    "name": "ipython",
    "version": 3
   },
   "file_extension": ".py",
   "mimetype": "text/x-python",
   "name": "python",
   "nbconvert_exporter": "python",
   "pygments_lexer": "ipython3",
   "version": "3.7.3"
  }
 },
 "nbformat": 4,
 "nbformat_minor": 4
}
